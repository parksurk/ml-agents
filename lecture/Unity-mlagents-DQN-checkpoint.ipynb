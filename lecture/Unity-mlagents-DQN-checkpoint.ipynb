{
 "cells": [
  {
   "cell_type": "markdown",
   "id": "74c92828",
   "metadata": {},
   "source": [
    "# Unity ML-Agents DQN 구현 코드"
   ]
  },
  {
   "cell_type": "markdown",
   "id": "63043678",
   "metadata": {},
   "source": [
    "## 라이브러리 불러오기"
   ]
  },
  {
   "cell_type": "code",
   "execution_count": 1,
   "id": "c817db9e",
   "metadata": {},
   "outputs": [],
   "source": [
    "import numpy as np\n",
    "import random\n",
    "import copy\n",
    "import datetime\n",
    "import platform\n",
    "import torch\n",
    "import torch.nn.functional as F\n",
    "from torch.utils.tensorboard import SummaryWriter\n",
    "from collections import deque\n",
    "from mlagents_envs.environment import UnityEnvironment, ActionTuple\n",
    "from mlagents_envs.side_channel.engine_configuration_channel import EngineConfigurationChannel"
   ]
  },
  {
   "cell_type": "markdown",
   "id": "7dce5330",
   "metadata": {},
   "source": [
    "## DQN 학습 옵션 값 설정"
   ]
  },
  {
   "cell_type": "code",
   "execution_count": 2,
   "id": "8aa0133c",
   "metadata": {},
   "outputs": [],
   "source": [
    "state_size = [3*2, 64, 84]\n",
    "action_size = 4\n",
    "\n",
    "load_model = False\n",
    "train_mode = True\n",
    "\n",
    "batch_size = 32\n",
    "mem_maxlen = 10000\n",
    "discount_factor = 0.9\n",
    "learning_rate = 0.00025\n",
    "\n",
    "run_step = 50000 if train_mode else 0\n",
    "test_step = 5000\n",
    "train_start_step = 5000\n",
    "target_update_step = 500\n",
    "\n",
    "print_interval = 10\n",
    "save_interval = 100\n",
    "\n",
    "epsilon_eval = 0.05\n",
    "epsilon_init = 1.0 if train_mode else epsilon_eval\n",
    "epsilon_min = 0.1\n",
    "explore_step = run_step * 0.8\n",
    "epsilon_delta = (epsilon_init - epsilon_min)/explore_step if train_mode else 0\n",
    "\n",
    "VISUAL_OBS = 0\n",
    "GOAL_OBS = 1\n",
    "VECTOR_OBS = 2\n",
    "OBS = VISUAL_OBS"
   ]
  },
  {
   "cell_type": "markdown",
   "id": "cca60501",
   "metadata": {},
   "source": [
    "## Unity 환경 옵션 값 설정"
   ]
  },
  {
   "cell_type": "code",
   "execution_count": 3,
   "id": "f905981c",
   "metadata": {},
   "outputs": [],
   "source": [
    "game = \"GridWorld\"\n",
    "os_name = platform.system()\n",
    "if os_name == \"Windows\":\n",
    "    env_name = f\"../envs/{game}_{os_name}/{game}\"\n",
    "elif os_name == \"Darwin\":\n",
    "    #env_name = f\"../envs/{game}_{os_name}\"\n",
    "    env_name = f\"../../TestMLAgentProject5th/{game}/{game}\""
   ]
  },
  {
   "cell_type": "markdown",
   "id": "b09eedd5",
   "metadata": {},
   "source": [
    "## 딥러닝 모델 저장 및 불러오기 옵션"
   ]
  },
  {
   "cell_type": "code",
   "execution_count": 4,
   "id": "9c6e8ace",
   "metadata": {},
   "outputs": [],
   "source": [
    "date_time = datetime.datetime.now().strftime(\"%Y%m%d%H%M%S\")\n",
    "save_path = f\"./saved_models/{game}/DQN/{date_time}\"\n",
    "load_path = f\"./saved_models/{game}/DQN/xxxxxxxxxxxxx\""
   ]
  },
  {
   "cell_type": "markdown",
   "id": "0d893103",
   "metadata": {},
   "source": [
    "## 연산 장치(GPU|CPU)"
   ]
  },
  {
   "cell_type": "code",
   "execution_count": 5,
   "id": "91ee48b7",
   "metadata": {},
   "outputs": [],
   "source": [
    "device = torch.device(\"cuda\" if torch.cuda.is_available() else \"cpu\")"
   ]
  },
  {
   "cell_type": "markdown",
   "id": "f373b91b-c415-4ac3-8357-3c18bbab2245",
   "metadata": {},
   "source": [
    "## 딥러닝 모델 Class 구현"
   ]
  },
  {
   "cell_type": "code",
   "execution_count": 6,
   "id": "a51692f7-6e66-4c69-a9b1-47dce0a73feb",
   "metadata": {},
   "outputs": [],
   "source": [
    "class DQN(torch.nn.Module):\n",
    "    def __init__(self, **kwargs):\n",
    "        super(DQN, self).__init__(**kwargs)\n",
    "        \n",
    "        self.conv1 = torch.nn.Conv2d(in_channels=state_size[0], out_channels=32, kernel_size=8, stride=4)\n",
    "        dim1 = ((state_size[1] - 8)//4 + 1, (state_size[2] - 8)//4 + 1)\n",
    "        \n",
    "        self.conv2 = torch.nn.Conv2d(in_channels=32, out_channels=64, kernel_size=4, stride=2)\n",
    "        dim2 = ((dim1[0] - 4)//2 + 1, (dim1[1] - 4)//2 + 1)\n",
    "        \n",
    "        self.conv3 = torch.nn.Conv2d(in_channels=64, out_channels=64, kernel_size=3, stride=1)\n",
    "        dim3 = ((dim2[0] - 3)//1 + 1, (dim2[1] - 3)//1 + 1)\n",
    "        \n",
    "        self.flat = torch.nn.Flatten()\n",
    "        self.fc1 = torch.nn.Linear(64*dim3[0]*dim3[1], 512)\n",
    "        self.q = torch.nn.Linear(512, action_size)\n",
    "        \n",
    "    def forward(self, x):\n",
    "        x = x.permute(0, 3, 1, 2)\n",
    "        x = F.relu(self.conv1(x))\n",
    "        x = F.relu(self.conv2(x))\n",
    "        x = F.relu(self.conv3(x))\n",
    "        x = self.flat(x)\n",
    "        x = F.relu(self.fc1(x))\n",
    "        \n",
    "        return self.q(x)\n"
   ]
  },
  {
   "cell_type": "markdown",
   "id": "4286dfbf-c601-40e3-9ea7-698f12c149d8",
   "metadata": {},
   "source": [
    "## 강화학습 에이전트 Class 구현"
   ]
  },
  {
   "cell_type": "code",
   "execution_count": 7,
   "id": "a0ff1d56-edf0-4d97-adc7-175db73bf88e",
   "metadata": {},
   "outputs": [],
   "source": [
    "class DQNAgent:\n",
    "    def __init__(self):\n",
    "        self.network = DQN().to(device)\n",
    "        self.target_network = copy.deepcopy(self.network)\n",
    "        self.optimizer = torch.optim.Adam(self.network.parameters(), lr=learning_rate)\n",
    "        self.memory = deque(maxlen=mem_maxlen)\n",
    "        self.epsilon = epsilon_init\n",
    "        self.writer = SummaryWriter(save_path)\n",
    "        \n",
    "        if load_model == True:\n",
    "            print(f\"... Load Model from {load_path}/ckpt\")\n",
    "            checkpoint = torch.load(load_path+\"/ckpt\", map_location=device)\n",
    "            self.network.load_state_dict(checkpoint[\"network\"])\n",
    "            self.target_network.load_state_dict(checkpoint[\"network\"])\n",
    "            self.optimizer.load_state_dict(checkpoint[\"optimizer\"])\n",
    "            \n",
    "    # Epsilon greedy 기법에 따라 행동을 결정\n",
    "    def get_action(self, state, training=True):\n",
    "        #네트워크 모드 설정\n",
    "        self.network.train(training)\n",
    "        epsilon = self.epsilon if training else epsilon_eval\n",
    "        \n",
    "        #랜덤하게 행동을 결정\n",
    "        if epsilon > random.random():\n",
    "            action = np.random.randint(0, action_size, size=(state.shape[0], 1))\n",
    "        #DQN 네트워크가 연산한 결과에 따라 행동을 결정\n",
    "        else:\n",
    "            q = self.network(torch.FloatTensor(state).to(device))\n",
    "            action = torch.argmax(q, axis=-1, keepdim=True).detach().cpu().numpy()\n",
    "            \n",
    "        return action\n",
    "    \n",
    "    # Replay Buffer 메모리에 데이터 추가 (State, Action, Reward, Nest State, Done)\n",
    "    def append_sample(self, state, action, reward, next_state, done):\n",
    "        self.memory.append((state, action, reward, next_state, done))\n",
    "    \n",
    "    # DQN 학습을 수행\n",
    "    def train_model(self):\n",
    "        batch = random.sample(self.memory, batch_size)\n",
    "        state = np.stack([b[0] for b in batch], axis=0)\n",
    "        action = np.stack([b[1] for b in batch], axis=0)\n",
    "        reward = np.stack([b[2] for b in batch], axis=0)\n",
    "        next_state = np.stack([b[3] for b in batch], axis=0)\n",
    "        done = np.stack([b[4] for b in batch], axis=0)\n",
    "        \n",
    "        state, action, reward, next_state, done = map(lambda x: torch.FloatTensor(x).to(device), [state, action, reward, next_state, done])\n",
    "        \n",
    "        eye = torch.eye(action_size).to(device)\n",
    "        one_hot_action = eye[action.view(-1).long()]\n",
    "        q = (self.network(state) * one_hot_action).sum(1, keepdims=True)\n",
    "        \n",
    "        with torch.no_grad():\n",
    "            next_q = self.target_network(next_state)\n",
    "            target_q = reward + next_q.max(1, keepdims=True).values * ((1 - done) * discount_factor)\n",
    "            \n",
    "        loss = F.smooth_l1_loss(q, target_q)\n",
    "        \n",
    "        self.optimizer.zero_grad()\n",
    "        loss.backward()\n",
    "        self.optimizer.step()\n",
    "        \n",
    "        self.epsilon = max(epsilon_min, self.epsilon - epsilon_delta)\n",
    "        \n",
    "        return loss.item()\n",
    "    \n",
    "    # DQN Target 네트워크 업데이트\n",
    "    def update_target(self):\n",
    "        self.target_network.load_state_dict(self.network.state_dict())\n",
    "        \n",
    "    # 학습된 DQN Network 모델 저장\n",
    "    def save_model(self):\n",
    "        print(f\"... Save Model to {save_path}/ckpt...\")\n",
    "        torch.save({\n",
    "            \"network\" : self.network.state_dict(),\n",
    "            \"optimizer\" : self.optimizer.state_dict(),\n",
    "        }, save_path+\"/ckpt\")\n",
    "        \n",
    "    # 학습 로그 기록\n",
    "    def write_summary(self, score, loss, epsilon, step):\n",
    "        self.writer.add_scalar(\"run/score\", score, step)\n",
    "        self.writer.add_scalar(\"model/loss\", loss, step)\n",
    "        self.writer.add_scalar(\"model/epsilon\", epsilon, step)\n",
    "        "
   ]
  },
  {
   "cell_type": "markdown",
   "id": "c72b493a-e230-46dc-bdf9-7568adda92fa",
   "metadata": {},
   "source": [
    "## Main 프로세스"
   ]
  },
  {
   "cell_type": "code",
   "execution_count": 8,
   "id": "d06bedaa-8a74-449c-919f-3d55aa43a217",
   "metadata": {},
   "outputs": [
    {
     "name": "stderr",
     "output_type": "stream",
     "text": [
      "/Users/a08967/opt/anaconda3/envs/mlagent-r18-p37/lib/python3.7/site-packages/numpy/core/fromnumeric.py:3441: RuntimeWarning: Mean of empty slice.\n",
      "  out=out, **kwargs)\n",
      "/Users/a08967/opt/anaconda3/envs/mlagent-r18-p37/lib/python3.7/site-packages/numpy/core/_methods.py:189: RuntimeWarning: invalid value encountered in double_scalars\n",
      "  ret = ret.dtype.type(ret / rcount)\n"
     ]
    },
    {
     "ename": "AttributeError",
     "evalue": "'DQNAgent' object has no attribute 'episode'",
     "output_type": "error",
     "traceback": [
      "\u001b[0;31m---------------------------------------------------------------------------\u001b[0m",
      "\u001b[0;31mAttributeError\u001b[0m                            Traceback (most recent call last)",
      "\u001b[0;32m/var/folders/ky/012smd8n62ngjwmcx2xhp7pc0000gn/T/ipykernel_41341/41261219.py\u001b[0m in \u001b[0;36m<module>\u001b[0;34m\u001b[0m\n\u001b[1;32m     56\u001b[0m             \u001b[0mmean_score\u001b[0m \u001b[0;34m=\u001b[0m \u001b[0mnp\u001b[0m\u001b[0;34m.\u001b[0m\u001b[0mmean\u001b[0m\u001b[0;34m(\u001b[0m\u001b[0mscores\u001b[0m\u001b[0;34m)\u001b[0m\u001b[0;34m\u001b[0m\u001b[0;34m\u001b[0m\u001b[0m\n\u001b[1;32m     57\u001b[0m             \u001b[0mmean_loss\u001b[0m \u001b[0;34m=\u001b[0m \u001b[0mnp\u001b[0m\u001b[0;34m.\u001b[0m\u001b[0mmean\u001b[0m\u001b[0;34m(\u001b[0m\u001b[0mlosses\u001b[0m\u001b[0;34m)\u001b[0m\u001b[0;34m\u001b[0m\u001b[0;34m\u001b[0m\u001b[0m\n\u001b[0;32m---> 58\u001b[0;31m             \u001b[0magent\u001b[0m\u001b[0;34m.\u001b[0m\u001b[0mwrite_summary\u001b[0m\u001b[0;34m(\u001b[0m\u001b[0mmean_score\u001b[0m\u001b[0;34m,\u001b[0m \u001b[0mmean_loss\u001b[0m\u001b[0;34m,\u001b[0m \u001b[0magent\u001b[0m\u001b[0;34m.\u001b[0m\u001b[0mepisode\u001b[0m\u001b[0;34m,\u001b[0m \u001b[0mstep\u001b[0m\u001b[0;34m)\u001b[0m\u001b[0;34m\u001b[0m\u001b[0;34m\u001b[0m\u001b[0m\n\u001b[0m\u001b[1;32m     59\u001b[0m             \u001b[0mlosses\u001b[0m\u001b[0;34m,\u001b[0m \u001b[0mscores\u001b[0m \u001b[0;34m=\u001b[0m \u001b[0;34m[\u001b[0m\u001b[0;34m]\u001b[0m\u001b[0;34m,\u001b[0m \u001b[0;34m[\u001b[0m\u001b[0;34m]\u001b[0m\u001b[0;34m\u001b[0m\u001b[0;34m\u001b[0m\u001b[0m\n\u001b[1;32m     60\u001b[0m \u001b[0;34m\u001b[0m\u001b[0m\n",
      "\u001b[0;31mAttributeError\u001b[0m: 'DQNAgent' object has no attribute 'episode'"
     ]
    }
   ],
   "source": [
    "# Unity 환경 경로 설정\n",
    "engine_configuration_channel = EngineConfigurationChannel()\n",
    "env = UnityEnvironment(file_name=env_name, side_channels=[engine_configuration_channel])\n",
    "#env = UnityEnvironment(side_channels=[engine_configuration_channel])\n",
    "env.reset()\n",
    "\n",
    "# Unity 브레인 설정\n",
    "behavior_name = list(env.behavior_specs.keys())[0]\n",
    "spec = env.behavior_specs[behavior_name]\n",
    "engine_configuration_channel.set_configuration_parameters(time_scale=12.0)\n",
    "dec, term = env.get_steps(behavior_name)\n",
    "\n",
    "# DQNAgent Class를 Agent로 정의\n",
    "agent = DQNAgent()\n",
    "\n",
    "losses, scores, episode, score = [], [], 0, 0\n",
    "for step in range(run_step + test_step):\n",
    "    if step == run_step:\n",
    "        if train_mode:\n",
    "            agent.save_model()\n",
    "        print(\"TEST START\")\n",
    "        train_mode = False\n",
    "        engine_configuration_channel.set_configuration_parameters(time_scale=1.0)\n",
    "        \n",
    "    preprocess = lambda obs, goal: np.concatenate((obs*goal[0][0], obs*goal[0][1]), axis=-1)\n",
    "    state = preprocess(dec.obs[OBS], dec.obs[GOAL_OBS])\n",
    "    action = agent.get_action(state, train_mode)\n",
    "    real_action = action + 1\n",
    "    action_tuple = ActionTuple()\n",
    "    action_tuple.add_discrete(real_action)\n",
    "    env.set_actions(behavior_name, action_tuple)\n",
    "    env.step()\n",
    "    \n",
    "    dec, term = env.get_steps(behavior_name)\n",
    "    done = len(term.agent_id) > 0\n",
    "    reward = term.reward if done else dec.reward\n",
    "    next_state = preprocess(term.obs[OBS], term.obs[GOAL_OBS]) if done else preprocess(dec.obs[OBS], dec.obs[GOAL_OBS])\n",
    "    score == reward[0]\n",
    "    \n",
    "    if train_mode:\n",
    "        agent.append_sample(state[0], action[0], reward, next_state[0], [done])\n",
    "        \n",
    "    if train_mode and step > max(batch_size, train_start_step) :\n",
    "        loss = agent.train_model()\n",
    "        losses.append(loss)\n",
    "        \n",
    "        if step % target_update_step == 0:\n",
    "            agent.update_target()\n",
    "    \n",
    "    if done:\n",
    "        episode +=1\n",
    "        scores.append(score)\n",
    "        score = 0\n",
    "        \n",
    "        if episode % print_interval == 0:\n",
    "            mean_score = np.mean(scores)\n",
    "            mean_loss = np.mean(losses)\n",
    "            agent.write_summary(mean_score, mean_loss, agent.epsilon, step)\n",
    "            losses, scores = [], []\n",
    "            \n",
    "            print(f\"{episode} Episode / Step: {step} / Score: {mean_score:.2f} / Loss: {mean_loss:.4f} / Epsilon: {agent.epsilon:.4f}\")\n",
    "        \n",
    "        if train_mode and episode % save_interval == 0:\n",
    "            agent.save_model()\n",
    "    \n",
    "env.close()"
   ]
  },
  {
   "cell_type": "code",
   "execution_count": null,
   "id": "6f4ffe85-9e2e-465c-b461-02eb99bb69c8",
   "metadata": {},
   "outputs": [],
   "source": []
  }
 ],
 "metadata": {
  "kernelspec": {
   "display_name": "mlagent-r18-p37",
   "language": "python",
   "name": "mlagent-r18-p37"
  },
  "language_info": {
   "codemirror_mode": {
    "name": "ipython",
    "version": 3
   },
   "file_extension": ".py",
   "mimetype": "text/x-python",
   "name": "python",
   "nbconvert_exporter": "python",
   "pygments_lexer": "ipython3",
   "version": "3.7.13"
  }
 },
 "nbformat": 4,
 "nbformat_minor": 5
}

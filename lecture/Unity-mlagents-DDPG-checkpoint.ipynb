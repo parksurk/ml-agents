{
 "cells": [
  {
   "cell_type": "markdown",
   "id": "74c92828",
   "metadata": {},
   "source": [
    "# Unity ML-Agents DDPG 구현 코드"
   ]
  },
  {
   "cell_type": "markdown",
   "id": "63043678",
   "metadata": {},
   "source": [
    "## 라이브러리 불러오기"
   ]
  },
  {
   "cell_type": "code",
   "execution_count": 1,
   "id": "c817db9e",
   "metadata": {},
   "outputs": [],
   "source": [
    "import numpy as np\n",
    "import random\n",
    "import copy\n",
    "import datetime\n",
    "import platform\n",
    "import torch\n",
    "import torch.nn.functional as F\n",
    "from torch.utils.tensorboard import SummaryWriter\n",
    "from collections import deque\n",
    "from mlagents_envs.environment import UnityEnvironment, ActionTuple\n",
    "from mlagents_envs.side_channel.engine_configuration_channel import EngineConfigurationChannel"
   ]
  },
  {
   "cell_type": "markdown",
   "id": "7dce5330",
   "metadata": {},
   "source": [
    "## DDPG 학습 옵션 값 설정"
   ]
  },
  {
   "cell_type": "code",
   "execution_count": 2,
   "id": "8aa0133c",
   "metadata": {},
   "outputs": [],
   "source": [
    "state_size = 9\n",
    "action_size = 3\n",
    "\n",
    "load_model = False\n",
    "train_mode = True\n",
    "\n",
    "batch_size = 128\n",
    "mem_maxlen = 50000\n",
    "discount_factor = 0.9\n",
    "actor_lr = 1e-4\n",
    "critic_lr = 5e-4\n",
    "tau = 1e-3\n",
    "\n",
    "mu = 0\n",
    "theta = 1e-3\n",
    "sigma = 2e-3\n",
    "\n",
    "run_step = 50000 if train_mode else 0\n",
    "test_step = 10000\n",
    "train_start_step = 5000\n",
    "\n",
    "print_interval = 10\n",
    "save_interval = 100"
   ]
  },
  {
   "cell_type": "markdown",
   "id": "cca60501",
   "metadata": {},
   "source": [
    "## Unity 환경 옵션 값 설정"
   ]
  },
  {
   "cell_type": "code",
   "execution_count": 3,
   "id": "f905981c",
   "metadata": {},
   "outputs": [],
   "source": [
    "game = \"Drone\"\n",
    "os_name = platform.system()\n",
    "if os_name == \"Windows\":\n",
    "    env_name = f\"../envs/{game}_{os_name}/{game}\"\n",
    "elif os_name == \"Darwin\":\n",
    "    #env_name = f\"../envs/{game}_{os_name}\"\n",
    "    env_name = f\"../../SimpleDronePrj/{game}/{game}\""
   ]
  },
  {
   "cell_type": "markdown",
   "id": "b09eedd5",
   "metadata": {},
   "source": [
    "## 딥러닝 모델 저장 및 불러오기 옵션"
   ]
  },
  {
   "cell_type": "code",
   "execution_count": 4,
   "id": "9c6e8ace",
   "metadata": {},
   "outputs": [],
   "source": [
    "date_time = datetime.datetime.now().strftime(\"%Y%m%d%H%M%S\")\n",
    "save_path = f\"./saved_models/{game}/DDPG/{date_time}\"\n",
    "load_path = f\"./saved_models/{game}/DDPG/xxxxxxxxxxxxx\""
   ]
  },
  {
   "cell_type": "markdown",
   "id": "0d893103",
   "metadata": {},
   "source": [
    "## 연산 장치(GPU|CPU)"
   ]
  },
  {
   "cell_type": "code",
   "execution_count": 5,
   "id": "91ee48b7",
   "metadata": {},
   "outputs": [],
   "source": [
    "device = torch.device(\"cuda\" if torch.cuda.is_available() else \"cpu\")"
   ]
  },
  {
   "cell_type": "markdown",
   "id": "7f9e189e-e455-4145-8f95-9af20d22bf34",
   "metadata": {},
   "source": [
    "## OU Noist Class 구현"
   ]
  },
  {
   "cell_type": "code",
   "execution_count": 6,
   "id": "c32fcf17-53a5-4251-8043-942b4a264365",
   "metadata": {},
   "outputs": [],
   "source": [
    "class OU_noise:\n",
    "    def __init__(self):\n",
    "        self.reset()\n",
    "        \n",
    "    def reset(self):\n",
    "        self.X = np.ones((1, action_size), dtype=np.float32) * mu\n",
    "        \n",
    "    def sample(self):\n",
    "        dx = theta * (mu - self.X) + sigma * np.random.randn(len(self.X))\n",
    "        self.X += dx\n",
    "        return self.X"
   ]
  },
  {
   "cell_type": "markdown",
   "id": "f373b91b-c415-4ac3-8357-3c18bbab2245",
   "metadata": {},
   "source": [
    "## 딥러닝 모델 Class 구현"
   ]
  },
  {
   "cell_type": "code",
   "execution_count": 7,
   "id": "a51692f7-6e66-4c69-a9b1-47dce0a73feb",
   "metadata": {},
   "outputs": [],
   "source": [
    "class Actor(torch.nn.Module):\n",
    "    def __init__(self):\n",
    "        super(Actor, self).__init__()\n",
    "        self.fc1 = torch.nn.Linear(state_size, 128)\n",
    "        self.fc2 = torch.nn.Linear(128, 128)\n",
    "        self.mu = torch.nn.Linear(128, action_size)\n",
    "        \n",
    "    def forward(self, state):\n",
    "        x = F.relu(self.fc1(state))\n",
    "        x = F.relu(self.fc2(x))\n",
    "        \n",
    "        return F.tanh(self.mu(x))\n"
   ]
  },
  {
   "cell_type": "code",
   "execution_count": 8,
   "id": "1428519f-dad1-4c82-8f85-19bdbe5ac68d",
   "metadata": {},
   "outputs": [],
   "source": [
    "class Critic(torch.nn.Module):\n",
    "    def __init__(self):\n",
    "        super(Critic, self).__init__()\n",
    "        self.fc1 = torch.nn.Linear(state_size, 128)\n",
    "        self.fc2 = torch.nn.Linear(128+action_size, 128)\n",
    "        self.q = torch.nn.Linear(128, 1)\n",
    "        \n",
    "    def forward(self, state, action):\n",
    "        x = F.relu(self.fc1(state))\n",
    "        x = torch.cat((x, action), dim=-1)\n",
    "        x = F.relu(self.fc2(x))\n",
    "        \n",
    "        return self.q(x)"
   ]
  },
  {
   "cell_type": "markdown",
   "id": "4286dfbf-c601-40e3-9ea7-698f12c149d8",
   "metadata": {},
   "source": [
    "## 강화학습 에이전트 Class 구현"
   ]
  },
  {
   "cell_type": "code",
   "execution_count": 9,
   "id": "a0ff1d56-edf0-4d97-adc7-175db73bf88e",
   "metadata": {},
   "outputs": [],
   "source": [
    "class DDPGAgent:\n",
    "    def __init__(self):\n",
    "        self.actor = Actor().to(device)\n",
    "        self.target_actor = copy.deepcopy(self.actor)\n",
    "        self.actor_optimizer = torch.optim.Adam(self.actor.parameters(), lr=actor_lr)\n",
    "        self.critic = Critic().to(device)\n",
    "        self.target_critic = copy.deepcopy(self.critic)\n",
    "        self.critic_optimizer = torch.optim.Adam(self.critic.parameters(), lr=critic_lr)\n",
    "        self.OU = OU_noise()\n",
    "        self.memory = deque(maxlen=mem_maxlen)\n",
    "        self.writer = SummaryWriter(save_path)\n",
    "        \n",
    "        if load_model == True:\n",
    "            print(f\"... Load Model from {load_path}/ckpt\")\n",
    "            checkpoint = torch.load(load_path+\"/ckpt\", map_location=device)\n",
    "            self.actor.load_state_dict(checkpoint[\"actor\"])\n",
    "            self.target_actor.load_state_dict(checkpoint[\"actor\"])\n",
    "            self.actor_optimizer.load_state_dict(checkpoint[\"actor_optimizer\"])\n",
    "            self.critic.load_state_dict(checkpoint[\"critic\"])\n",
    "            self.target_critic.load_state_dict(checkpoint[\"critic\"])\n",
    "            self.critic_optimizer.load_state_dict(checkpoint[\"critic_optimizer\"])\n",
    "            \n",
    "    # OU noise 기법에 따라 행동을 결정\n",
    "    def get_action(self, state, training=True):\n",
    "        #네트워크 모드 설정\n",
    "        self.actor.train(training)\n",
    "        \n",
    "        action = self.actor(torch.FloatTensor(state).to(device)).cpu().detach().numpy()       \n",
    "        return action + self.OU.sample() if training else action\n",
    "    \n",
    "    # Replay Buffer 메모리에 데이터 추가 (State, Action, Reward, Nest State, Done)\n",
    "    def append_sample(self, state, action, reward, next_state, done):\n",
    "        self.memory.append((state, action, reward, next_state, done))\n",
    "    \n",
    "    # DDPG 학습을 수행\n",
    "    def train_model(self):\n",
    "        batch = random.sample(self.memory, batch_size)\n",
    "        state = np.stack([b[0] for b in batch], axis=0)\n",
    "        action = np.stack([b[1] for b in batch], axis=0)\n",
    "        reward = np.stack([b[2] for b in batch], axis=0)\n",
    "        next_state = np.stack([b[3] for b in batch], axis=0)\n",
    "        done = np.stack([b[4] for b in batch], axis=0)\n",
    "        \n",
    "        state, action, reward, next_state, done = map(lambda x: torch.FloatTensor(x).to(device), [state, action, reward, next_state, done])\n",
    "        \n",
    "        # Critic 업데이트\n",
    "        next_actions = self.target_actor(next_state)\n",
    "        next_q = self.target_critic(next_state, next_actions)\n",
    "        target_q = reward + (1 - done) * discount_factor * next_q\n",
    "        q = self.critic(state, action)\n",
    "        critic_loss = F.mse_loss(target_q, q)\n",
    "        \n",
    "        self.critic_optimizer.zero_grad()\n",
    "        critic_loss.backward()\n",
    "        self.critic_optimizer.step()\n",
    "        \n",
    "        # Actor 업데이트\n",
    "        action_pred = self.actor(state)\n",
    "        actor_loss = -self.critic(state, action_pred).mean()\n",
    "        \n",
    "        self.actor_optimizer.zero_grad()\n",
    "        actor_loss.backward()\n",
    "        self.actor_optimizer.step()\n",
    "        \n",
    "        return actor_loss.item(), critic_loss.item()\n",
    "    \n",
    "    # DDPG Soft Target 네트워크 업데이트\n",
    "    def soft_update_target(self):\n",
    "        for target_param, local_param in zip(self.target_actor.parameters(), self.actor.parameters()):\n",
    "            target_param.data.copy_(tau * local_param.data + (1.0 - tau) * target_param.data)\n",
    "        for target_param, local_param in zip(self.target_critic.parameters(), self.critic.parameters()):\n",
    "            target_param.data.copy_(tau * local_param.data + (1.0 - tau) * target_param.data)\n",
    "            \n",
    "    # 학습된 DQN Network 모델 저장\n",
    "    def save_model(self):\n",
    "        print(f\"... Save Model to {save_path}/ckpt...\")\n",
    "        torch.save({\n",
    "            \"actor\" : self.actor.state_dict(),\n",
    "            \"actor_optimizer\" : self.actor_optimizer.state_dict(),\n",
    "            \"critic\" : self.critic.state_dict(),\n",
    "            \"critic_optimizer\" : self.critic_optimizer.state_dict(),\n",
    "        }, save_path+\"/ckpt\")\n",
    "        \n",
    "    # 학습 로그 기록\n",
    "    def write_summary(self, score, actor_loss, critic_loss, step):\n",
    "        self.writer.add_scalar(\"run/score\", score, step)\n",
    "        self.writer.add_scalar(\"model/actor_loss\", actor_loss, step)\n",
    "        self.writer.add_scalar(\"model/critic_loss\", critic_loss, step)\n",
    "        "
   ]
  },
  {
   "cell_type": "markdown",
   "id": "c72b493a-e230-46dc-bdf9-7568adda92fa",
   "metadata": {},
   "source": [
    "## Main 프로세스"
   ]
  },
  {
   "cell_type": "code",
   "execution_count": 10,
   "id": "d06bedaa-8a74-449c-919f-3d55aa43a217",
   "metadata": {},
   "outputs": [
    {
     "ename": "RuntimeError",
     "evalue": "mat1 and mat2 shapes cannot be multiplied (1x72 and 9x128)",
     "output_type": "error",
     "traceback": [
      "\u001b[0;31m---------------------------------------------------------------------------\u001b[0m",
      "\u001b[0;31mRuntimeError\u001b[0m                              Traceback (most recent call last)",
      "\u001b[0;32m/var/folders/ky/012smd8n62ngjwmcx2xhp7pc0000gn/T/ipykernel_51806/1335668319.py\u001b[0m in \u001b[0;36m<module>\u001b[0;34m\u001b[0m\n\u001b[1;32m     23\u001b[0m \u001b[0;34m\u001b[0m\u001b[0m\n\u001b[1;32m     24\u001b[0m     \u001b[0mstate\u001b[0m \u001b[0;34m=\u001b[0m \u001b[0mdec\u001b[0m\u001b[0;34m.\u001b[0m\u001b[0mobs\u001b[0m\u001b[0;34m[\u001b[0m\u001b[0;36m0\u001b[0m\u001b[0;34m]\u001b[0m\u001b[0;34m\u001b[0m\u001b[0;34m\u001b[0m\u001b[0m\n\u001b[0;32m---> 25\u001b[0;31m     \u001b[0maction\u001b[0m \u001b[0;34m=\u001b[0m \u001b[0magent\u001b[0m\u001b[0;34m.\u001b[0m\u001b[0mget_action\u001b[0m\u001b[0;34m(\u001b[0m\u001b[0mstate\u001b[0m\u001b[0;34m,\u001b[0m \u001b[0mtrain_mode\u001b[0m\u001b[0;34m)\u001b[0m\u001b[0;34m\u001b[0m\u001b[0;34m\u001b[0m\u001b[0m\n\u001b[0m\u001b[1;32m     26\u001b[0m     \u001b[0maction_tuple\u001b[0m \u001b[0;34m=\u001b[0m \u001b[0mActionTuple\u001b[0m\u001b[0;34m(\u001b[0m\u001b[0;34m)\u001b[0m\u001b[0;34m\u001b[0m\u001b[0;34m\u001b[0m\u001b[0m\n\u001b[1;32m     27\u001b[0m     \u001b[0maction_tuple\u001b[0m\u001b[0;34m.\u001b[0m\u001b[0madd_continuous\u001b[0m\u001b[0;34m(\u001b[0m\u001b[0maction\u001b[0m\u001b[0;34m)\u001b[0m\u001b[0;34m\u001b[0m\u001b[0;34m\u001b[0m\u001b[0m\n",
      "\u001b[0;32m/var/folders/ky/012smd8n62ngjwmcx2xhp7pc0000gn/T/ipykernel_51806/1516116249.py\u001b[0m in \u001b[0;36mget_action\u001b[0;34m(self, state, training)\u001b[0m\n\u001b[1;32m     26\u001b[0m         \u001b[0mself\u001b[0m\u001b[0;34m.\u001b[0m\u001b[0mactor\u001b[0m\u001b[0;34m.\u001b[0m\u001b[0mtrain\u001b[0m\u001b[0;34m(\u001b[0m\u001b[0mtraining\u001b[0m\u001b[0;34m)\u001b[0m\u001b[0;34m\u001b[0m\u001b[0;34m\u001b[0m\u001b[0m\n\u001b[1;32m     27\u001b[0m \u001b[0;34m\u001b[0m\u001b[0m\n\u001b[0;32m---> 28\u001b[0;31m         \u001b[0maction\u001b[0m \u001b[0;34m=\u001b[0m \u001b[0mself\u001b[0m\u001b[0;34m.\u001b[0m\u001b[0mactor\u001b[0m\u001b[0;34m(\u001b[0m\u001b[0mtorch\u001b[0m\u001b[0;34m.\u001b[0m\u001b[0mFloatTensor\u001b[0m\u001b[0;34m(\u001b[0m\u001b[0mstate\u001b[0m\u001b[0;34m)\u001b[0m\u001b[0;34m.\u001b[0m\u001b[0mto\u001b[0m\u001b[0;34m(\u001b[0m\u001b[0mdevice\u001b[0m\u001b[0;34m)\u001b[0m\u001b[0;34m)\u001b[0m\u001b[0;34m.\u001b[0m\u001b[0mdetach\u001b[0m\u001b[0;34m(\u001b[0m\u001b[0;34m)\u001b[0m\u001b[0;34m.\u001b[0m\u001b[0mcpu\u001b[0m\u001b[0;34m(\u001b[0m\u001b[0;34m)\u001b[0m\u001b[0;34m.\u001b[0m\u001b[0mnumpy\u001b[0m\u001b[0;34m(\u001b[0m\u001b[0;34m)\u001b[0m\u001b[0;34m\u001b[0m\u001b[0;34m\u001b[0m\u001b[0m\n\u001b[0m\u001b[1;32m     29\u001b[0m         \u001b[0;32mreturn\u001b[0m \u001b[0maction\u001b[0m \u001b[0;34m+\u001b[0m \u001b[0mself\u001b[0m\u001b[0;34m.\u001b[0m\u001b[0mOU\u001b[0m\u001b[0;34m.\u001b[0m\u001b[0msample\u001b[0m\u001b[0;34m(\u001b[0m\u001b[0;34m)\u001b[0m \u001b[0;32mif\u001b[0m \u001b[0mtraining\u001b[0m \u001b[0;32melse\u001b[0m \u001b[0maction\u001b[0m\u001b[0;34m\u001b[0m\u001b[0;34m\u001b[0m\u001b[0m\n\u001b[1;32m     30\u001b[0m \u001b[0;34m\u001b[0m\u001b[0m\n",
      "\u001b[0;32m~/opt/anaconda3/envs/mlagent-r18-p37/lib/python3.7/site-packages/torch/nn/modules/module.py\u001b[0m in \u001b[0;36m_call_impl\u001b[0;34m(self, *input, **kwargs)\u001b[0m\n\u001b[1;32m    887\u001b[0m             \u001b[0mresult\u001b[0m \u001b[0;34m=\u001b[0m \u001b[0mself\u001b[0m\u001b[0;34m.\u001b[0m\u001b[0m_slow_forward\u001b[0m\u001b[0;34m(\u001b[0m\u001b[0;34m*\u001b[0m\u001b[0minput\u001b[0m\u001b[0;34m,\u001b[0m \u001b[0;34m**\u001b[0m\u001b[0mkwargs\u001b[0m\u001b[0;34m)\u001b[0m\u001b[0;34m\u001b[0m\u001b[0;34m\u001b[0m\u001b[0m\n\u001b[1;32m    888\u001b[0m         \u001b[0;32melse\u001b[0m\u001b[0;34m:\u001b[0m\u001b[0;34m\u001b[0m\u001b[0;34m\u001b[0m\u001b[0m\n\u001b[0;32m--> 889\u001b[0;31m             \u001b[0mresult\u001b[0m \u001b[0;34m=\u001b[0m \u001b[0mself\u001b[0m\u001b[0;34m.\u001b[0m\u001b[0mforward\u001b[0m\u001b[0;34m(\u001b[0m\u001b[0;34m*\u001b[0m\u001b[0minput\u001b[0m\u001b[0;34m,\u001b[0m \u001b[0;34m**\u001b[0m\u001b[0mkwargs\u001b[0m\u001b[0;34m)\u001b[0m\u001b[0;34m\u001b[0m\u001b[0;34m\u001b[0m\u001b[0m\n\u001b[0m\u001b[1;32m    890\u001b[0m         for hook in itertools.chain(\n\u001b[1;32m    891\u001b[0m                 \u001b[0m_global_forward_hooks\u001b[0m\u001b[0;34m.\u001b[0m\u001b[0mvalues\u001b[0m\u001b[0;34m(\u001b[0m\u001b[0;34m)\u001b[0m\u001b[0;34m,\u001b[0m\u001b[0;34m\u001b[0m\u001b[0;34m\u001b[0m\u001b[0m\n",
      "\u001b[0;32m/var/folders/ky/012smd8n62ngjwmcx2xhp7pc0000gn/T/ipykernel_51806/2382268917.py\u001b[0m in \u001b[0;36mforward\u001b[0;34m(self, x)\u001b[0m\n\u001b[1;32m      7\u001b[0m \u001b[0;34m\u001b[0m\u001b[0m\n\u001b[1;32m      8\u001b[0m     \u001b[0;32mdef\u001b[0m \u001b[0mforward\u001b[0m\u001b[0;34m(\u001b[0m\u001b[0mself\u001b[0m\u001b[0;34m,\u001b[0m \u001b[0mx\u001b[0m\u001b[0;34m)\u001b[0m\u001b[0;34m:\u001b[0m\u001b[0;34m\u001b[0m\u001b[0;34m\u001b[0m\u001b[0m\n\u001b[0;32m----> 9\u001b[0;31m         \u001b[0mx\u001b[0m \u001b[0;34m=\u001b[0m \u001b[0mF\u001b[0m\u001b[0;34m.\u001b[0m\u001b[0mrelu\u001b[0m\u001b[0;34m(\u001b[0m\u001b[0mself\u001b[0m\u001b[0;34m.\u001b[0m\u001b[0mfc1\u001b[0m\u001b[0;34m(\u001b[0m\u001b[0mx\u001b[0m\u001b[0;34m)\u001b[0m\u001b[0;34m)\u001b[0m\u001b[0;34m\u001b[0m\u001b[0;34m\u001b[0m\u001b[0m\n\u001b[0m\u001b[1;32m     10\u001b[0m         \u001b[0mx\u001b[0m \u001b[0;34m=\u001b[0m \u001b[0mF\u001b[0m\u001b[0;34m.\u001b[0m\u001b[0mrelu\u001b[0m\u001b[0;34m(\u001b[0m\u001b[0mself\u001b[0m\u001b[0;34m.\u001b[0m\u001b[0mfc2\u001b[0m\u001b[0;34m(\u001b[0m\u001b[0mx\u001b[0m\u001b[0;34m)\u001b[0m\u001b[0;34m)\u001b[0m\u001b[0;34m\u001b[0m\u001b[0;34m\u001b[0m\u001b[0m\n\u001b[1;32m     11\u001b[0m \u001b[0;34m\u001b[0m\u001b[0m\n",
      "\u001b[0;32m~/opt/anaconda3/envs/mlagent-r18-p37/lib/python3.7/site-packages/torch/nn/modules/module.py\u001b[0m in \u001b[0;36m_call_impl\u001b[0;34m(self, *input, **kwargs)\u001b[0m\n\u001b[1;32m    887\u001b[0m             \u001b[0mresult\u001b[0m \u001b[0;34m=\u001b[0m \u001b[0mself\u001b[0m\u001b[0;34m.\u001b[0m\u001b[0m_slow_forward\u001b[0m\u001b[0;34m(\u001b[0m\u001b[0;34m*\u001b[0m\u001b[0minput\u001b[0m\u001b[0;34m,\u001b[0m \u001b[0;34m**\u001b[0m\u001b[0mkwargs\u001b[0m\u001b[0;34m)\u001b[0m\u001b[0;34m\u001b[0m\u001b[0;34m\u001b[0m\u001b[0m\n\u001b[1;32m    888\u001b[0m         \u001b[0;32melse\u001b[0m\u001b[0;34m:\u001b[0m\u001b[0;34m\u001b[0m\u001b[0;34m\u001b[0m\u001b[0m\n\u001b[0;32m--> 889\u001b[0;31m             \u001b[0mresult\u001b[0m \u001b[0;34m=\u001b[0m \u001b[0mself\u001b[0m\u001b[0;34m.\u001b[0m\u001b[0mforward\u001b[0m\u001b[0;34m(\u001b[0m\u001b[0;34m*\u001b[0m\u001b[0minput\u001b[0m\u001b[0;34m,\u001b[0m \u001b[0;34m**\u001b[0m\u001b[0mkwargs\u001b[0m\u001b[0;34m)\u001b[0m\u001b[0;34m\u001b[0m\u001b[0;34m\u001b[0m\u001b[0m\n\u001b[0m\u001b[1;32m    890\u001b[0m         for hook in itertools.chain(\n\u001b[1;32m    891\u001b[0m                 \u001b[0m_global_forward_hooks\u001b[0m\u001b[0;34m.\u001b[0m\u001b[0mvalues\u001b[0m\u001b[0;34m(\u001b[0m\u001b[0;34m)\u001b[0m\u001b[0;34m,\u001b[0m\u001b[0;34m\u001b[0m\u001b[0;34m\u001b[0m\u001b[0m\n",
      "\u001b[0;32m~/opt/anaconda3/envs/mlagent-r18-p37/lib/python3.7/site-packages/torch/nn/modules/linear.py\u001b[0m in \u001b[0;36mforward\u001b[0;34m(self, input)\u001b[0m\n\u001b[1;32m     92\u001b[0m \u001b[0;34m\u001b[0m\u001b[0m\n\u001b[1;32m     93\u001b[0m     \u001b[0;32mdef\u001b[0m \u001b[0mforward\u001b[0m\u001b[0;34m(\u001b[0m\u001b[0mself\u001b[0m\u001b[0;34m,\u001b[0m \u001b[0minput\u001b[0m\u001b[0;34m:\u001b[0m \u001b[0mTensor\u001b[0m\u001b[0;34m)\u001b[0m \u001b[0;34m->\u001b[0m \u001b[0mTensor\u001b[0m\u001b[0;34m:\u001b[0m\u001b[0;34m\u001b[0m\u001b[0;34m\u001b[0m\u001b[0m\n\u001b[0;32m---> 94\u001b[0;31m         \u001b[0;32mreturn\u001b[0m \u001b[0mF\u001b[0m\u001b[0;34m.\u001b[0m\u001b[0mlinear\u001b[0m\u001b[0;34m(\u001b[0m\u001b[0minput\u001b[0m\u001b[0;34m,\u001b[0m \u001b[0mself\u001b[0m\u001b[0;34m.\u001b[0m\u001b[0mweight\u001b[0m\u001b[0;34m,\u001b[0m \u001b[0mself\u001b[0m\u001b[0;34m.\u001b[0m\u001b[0mbias\u001b[0m\u001b[0;34m)\u001b[0m\u001b[0;34m\u001b[0m\u001b[0;34m\u001b[0m\u001b[0m\n\u001b[0m\u001b[1;32m     95\u001b[0m \u001b[0;34m\u001b[0m\u001b[0m\n\u001b[1;32m     96\u001b[0m     \u001b[0;32mdef\u001b[0m \u001b[0mextra_repr\u001b[0m\u001b[0;34m(\u001b[0m\u001b[0mself\u001b[0m\u001b[0;34m)\u001b[0m \u001b[0;34m->\u001b[0m \u001b[0mstr\u001b[0m\u001b[0;34m:\u001b[0m\u001b[0;34m\u001b[0m\u001b[0;34m\u001b[0m\u001b[0m\n",
      "\u001b[0;32m~/opt/anaconda3/envs/mlagent-r18-p37/lib/python3.7/site-packages/torch/nn/functional.py\u001b[0m in \u001b[0;36mlinear\u001b[0;34m(input, weight, bias)\u001b[0m\n\u001b[1;32m   1751\u001b[0m     \u001b[0;32mif\u001b[0m \u001b[0mhas_torch_function_variadic\u001b[0m\u001b[0;34m(\u001b[0m\u001b[0minput\u001b[0m\u001b[0;34m,\u001b[0m \u001b[0mweight\u001b[0m\u001b[0;34m)\u001b[0m\u001b[0;34m:\u001b[0m\u001b[0;34m\u001b[0m\u001b[0;34m\u001b[0m\u001b[0m\n\u001b[1;32m   1752\u001b[0m         \u001b[0;32mreturn\u001b[0m \u001b[0mhandle_torch_function\u001b[0m\u001b[0;34m(\u001b[0m\u001b[0mlinear\u001b[0m\u001b[0;34m,\u001b[0m \u001b[0;34m(\u001b[0m\u001b[0minput\u001b[0m\u001b[0;34m,\u001b[0m \u001b[0mweight\u001b[0m\u001b[0;34m)\u001b[0m\u001b[0;34m,\u001b[0m \u001b[0minput\u001b[0m\u001b[0;34m,\u001b[0m \u001b[0mweight\u001b[0m\u001b[0;34m,\u001b[0m \u001b[0mbias\u001b[0m\u001b[0;34m=\u001b[0m\u001b[0mbias\u001b[0m\u001b[0;34m)\u001b[0m\u001b[0;34m\u001b[0m\u001b[0;34m\u001b[0m\u001b[0m\n\u001b[0;32m-> 1753\u001b[0;31m     \u001b[0;32mreturn\u001b[0m \u001b[0mtorch\u001b[0m\u001b[0;34m.\u001b[0m\u001b[0m_C\u001b[0m\u001b[0;34m.\u001b[0m\u001b[0m_nn\u001b[0m\u001b[0;34m.\u001b[0m\u001b[0mlinear\u001b[0m\u001b[0;34m(\u001b[0m\u001b[0minput\u001b[0m\u001b[0;34m,\u001b[0m \u001b[0mweight\u001b[0m\u001b[0;34m,\u001b[0m \u001b[0mbias\u001b[0m\u001b[0;34m)\u001b[0m\u001b[0;34m\u001b[0m\u001b[0;34m\u001b[0m\u001b[0m\n\u001b[0m\u001b[1;32m   1754\u001b[0m \u001b[0;34m\u001b[0m\u001b[0m\n\u001b[1;32m   1755\u001b[0m \u001b[0;34m\u001b[0m\u001b[0m\n",
      "\u001b[0;31mRuntimeError\u001b[0m: mat1 and mat2 shapes cannot be multiplied (1x72 and 9x128)"
     ]
    }
   ],
   "source": [
    "# Unity 환경 경로 설정\n",
    "engine_configuration_channel = EngineConfigurationChannel()\n",
    "env = UnityEnvironment(file_name=env_name, side_channels=[engine_configuration_channel])\n",
    "env.reset()\n",
    "\n",
    "# Unity 브레인 설정\n",
    "behavior_name = list(env.behavior_specs.keys())[0]\n",
    "spec = env.behavior_specs[behavior_name]\n",
    "engine_configuration_channel.set_configuration_parameters(time_scale=12.0)\n",
    "dec, term = env.get_steps(behavior_name)\n",
    "\n",
    "# DDPGAgent Class를 Agent로 정의\n",
    "agent = DDPGAgent()\n",
    "\n",
    "actor_losses, critic_losses , scores, episode, score = [], [], [], 0, 0\n",
    "for step in range(run_step + test_step):\n",
    "    if step == run_step:\n",
    "        if train_mode:\n",
    "            agent.save_model()\n",
    "        print(\"TEST START\")\n",
    "        train_mode = False\n",
    "        engine_configuration_channel.set_configuration_parameters(time_scale=1.0)\n",
    "        \n",
    "    state = dec.obs[0]\n",
    "    action = agent.get_action(state, train_mode)\n",
    "    action_tuple = ActionTuple()\n",
    "    action_tuple.add_continuous(action)\n",
    "    env.set_actions(behavior_name, action_tuple)\n",
    "    env.step()\n",
    "    \n",
    "    dec, term = env.get_steps(behavior_name)\n",
    "    done = len(term.agent_id) > 0\n",
    "    reward = term.reward if done else dec.reward\n",
    "    next_state = term.obs[0] if done else dec.obs[0]\n",
    "    score += reward[0]\n",
    "    \n",
    "    if train_mode:\n",
    "        agent.append_sample(state[0], action[0], reward, next_state[0], [done])\n",
    "        \n",
    "    if train_mode and step > max(batch_size, train_start_step) :\n",
    "        actor_loss, critic_loss = agent.train_model()\n",
    "        actor_losses.append(actor_loss)\n",
    "        critic_losses.append(critic_loss)\n",
    "        \n",
    "        \n",
    "        agent.soft_update_target()\n",
    "    \n",
    "    if done:\n",
    "        episode +=1\n",
    "        scores.append(score)\n",
    "        score = 0\n",
    "        \n",
    "        if episode % print_interval == 0:\n",
    "            mean_score = np.mean(scores)\n",
    "            mean_actor_loss = np.mean(actor_losses)\n",
    "            mean_critic_loss = np.mean(critic_losses)\n",
    "            agent.write_summary(mean_score, mean_actor_loss, mean_critic_loss, step)\n",
    "            actor_losses, critic_losses , scores = [], [], []\n",
    "            \n",
    "            print(f\"{episode} Episode / Step: {step} / Score: {mean_score:.2f} / Actor Loss: {mean_actor_loss:.4f} / Critic Loss: {mean_critic_loss:.4f}\")\n",
    "        \n",
    "        if train_mode and episode % save_interval == 0:\n",
    "            agent.save_model()\n",
    "    \n",
    "env.close()"
   ]
  },
  {
   "cell_type": "code",
   "execution_count": null,
   "id": "6f4ffe85-9e2e-465c-b461-02eb99bb69c8",
   "metadata": {},
   "outputs": [],
   "source": []
  }
 ],
 "metadata": {
  "kernelspec": {
   "display_name": "mlagent-r18-p37",
   "language": "python",
   "name": "mlagent-r18-p37"
  },
  "language_info": {
   "codemirror_mode": {
    "name": "ipython",
    "version": 3
   },
   "file_extension": ".py",
   "mimetype": "text/x-python",
   "name": "python",
   "nbconvert_exporter": "python",
   "pygments_lexer": "ipython3",
   "version": "3.7.13"
  }
 },
 "nbformat": 4,
 "nbformat_minor": 5
}

{
 "cells": [
  {
   "cell_type": "markdown",
   "id": "74c92828",
   "metadata": {},
   "source": [
    "# Unity ML-Agents BC(Behavial Clonning) 구현 코드"
   ]
  },
  {
   "cell_type": "markdown",
   "id": "63043678",
   "metadata": {},
   "source": [
    "## 라이브러리 불러오기"
   ]
  },
  {
   "cell_type": "code",
   "execution_count": 1,
   "id": "c817db9e",
   "metadata": {},
   "outputs": [],
   "source": [
    "import numpy as np\n",
    "import random\n",
    "import datetime\n",
    "import platform\n",
    "import torch\n",
    "import torch.nn.functional as F\n",
    "from torch.utils.tensorboard import SummaryWriter\n",
    "from mlagents_envs.environment import UnityEnvironment, ActionTuple\n",
    "from mlagents_envs.side_channel.engine_configuration_channel import EngineConfigurationChannel\n",
    "from mlagents.trainers.demo_loader import demo_to_buffer\n",
    "from mlagents.trainers.buffer import BufferKey, ObservationKeyPrefix"
   ]
  },
  {
   "cell_type": "markdown",
   "id": "7dce5330",
   "metadata": {},
   "source": [
    "## BC 학습 옵션 값 설정"
   ]
  },
  {
   "cell_type": "code",
   "execution_count": 2,
   "id": "8aa0133c",
   "metadata": {},
   "outputs": [],
   "source": [
    "state_size = 12*4\n",
    "action_size = 1\n",
    "\n",
    "load_model = False\n",
    "train_mode = True\n",
    "\n",
    "batch_size = 128\n",
    "discount_factor = 0.9\n",
    "learning_rate = 3e-4\n",
    "\n",
    "train_epoch = 500\n",
    "test_step = 10000\n",
    "\n",
    "print_interval = 10\n",
    "save_interval = 100"
   ]
  },
  {
   "cell_type": "markdown",
   "id": "cca60501",
   "metadata": {},
   "source": [
    "## Unity 환경 옵션 값 설정"
   ]
  },
  {
   "cell_type": "code",
   "execution_count": 3,
   "id": "f905981c",
   "metadata": {},
   "outputs": [],
   "source": [
    "game = \"Kart\"\n",
    "os_name = platform.system()\n",
    "if os_name == \"Windows\":\n",
    "    env_name = f\"../envs/{game}_{os_name}/{game}\"\n",
    "elif os_name == \"Darwin\":\n",
    "    #env_name = f\"../envs/{game}_{os_name}\"\n",
    "    env_name = f\"../../SimpleKartPrj/{game}/{game}\""
   ]
  },
  {
   "cell_type": "markdown",
   "id": "b09eedd5",
   "metadata": {},
   "source": [
    "## 딥러닝 모델 저장 및 불러오기 옵션"
   ]
  },
  {
   "cell_type": "code",
   "execution_count": 4,
   "id": "9c6e8ace",
   "metadata": {},
   "outputs": [],
   "source": [
    "date_time = datetime.datetime.now().strftime(\"%Y%m%d%H%M%S\")\n",
    "save_path = f\"./saved_models/{game}/BC/{date_time}\"\n",
    "load_path = f\"./saved_models/{game}/BC/20221117230105\""
   ]
  },
  {
   "cell_type": "markdown",
   "id": "7aed372c-07cb-4fce-a453-4b6469c32310",
   "metadata": {},
   "source": [
    "## Demonstration 경로"
   ]
  },
  {
   "cell_type": "code",
   "execution_count": 5,
   "id": "9171b845-ce8c-4b8f-9823-693a9ed2a4d3",
   "metadata": {},
   "outputs": [],
   "source": [
    "demo_path = \"/Users/a08967/SimpleKartPrj/Kart/Demonstrations/Kart.demo\""
   ]
  },
  {
   "cell_type": "markdown",
   "id": "0d893103",
   "metadata": {},
   "source": [
    "## 연산 장치(GPU|CPU)"
   ]
  },
  {
   "cell_type": "code",
   "execution_count": 6,
   "id": "91ee48b7",
   "metadata": {},
   "outputs": [],
   "source": [
    "device = torch.device(\"cuda\" if torch.cuda.is_available() else \"cpu\")"
   ]
  },
  {
   "cell_type": "markdown",
   "id": "f373b91b-c415-4ac3-8357-3c18bbab2245",
   "metadata": {},
   "source": [
    "## 딥러닝 모델 Class 구현"
   ]
  },
  {
   "cell_type": "code",
   "execution_count": 7,
   "id": "a51692f7-6e66-4c69-a9b1-47dce0a73feb",
   "metadata": {},
   "outputs": [],
   "source": [
    "class Actor(torch.nn.Module):\n",
    "    def __init__(self):\n",
    "        super(Actor, self).__init__()\n",
    "        self.fc1 = torch.nn.Linear(state_size, 128)\n",
    "        self.fc2 = torch.nn.Linear(128, 128)\n",
    "        self.mu = torch.nn.Linear(128, action_size)\n",
    "        \n",
    "    def forward(self, state):\n",
    "        x = F.relu(self.fc1(state))\n",
    "        x = F.relu(self.fc2(x))\n",
    "        \n",
    "        return F.tanh(self.mu(x))\n"
   ]
  },
  {
   "cell_type": "markdown",
   "id": "4286dfbf-c601-40e3-9ea7-698f12c149d8",
   "metadata": {},
   "source": [
    "## 강화학습 에이전트 Class 구현"
   ]
  },
  {
   "cell_type": "code",
   "execution_count": 8,
   "id": "a0ff1d56-edf0-4d97-adc7-175db73bf88e",
   "metadata": {},
   "outputs": [],
   "source": [
    "class BCAgent:\n",
    "    def __init__(self):\n",
    "        self.actor = Actor().to(device)\n",
    "        self.optimizer = torch.optim.Adam(self.actor.parameters(), lr=learning_rate)\n",
    "        self.writer = SummaryWriter(save_path)\n",
    "        \n",
    "        if load_model == True:\n",
    "            print(f\"... Load Model from {load_path}/ckpt\")\n",
    "            checkpoint = torch.load(load_path+\"/ckpt\", map_location=device)\n",
    "            self.actor.load_state_dict(checkpoint[\"actor\"])\n",
    "            self.optimizer.load_state_dict(checkpoint[\"optimizer\"])\n",
    "            \n",
    "    # Actor 네트워크가 행동을 결정\n",
    "    def get_action(self, state, training=True):\n",
    "        #네트워크 모드 설정\n",
    "        self.actor.train(training)\n",
    "        \n",
    "        action = self.actor(torch.FloatTensor(state).to(device)).cpu().detach().numpy()       \n",
    "        return action\n",
    "    \n",
    "    # BC 학습을 수행\n",
    "    def train_model(self, state, action):\n",
    "        losses = []\n",
    "        \n",
    "        rand_idx = torch.randperm(len(state))\n",
    "        for iter in range(int(np.ceil(len(state)/batch_size))):\n",
    "            _state = state[rand_idx[iter*batch_size:(iter+1)*batch_size]]\n",
    "            _action = action[rand_idx[iter*batch_size:(iter+1)*batch_size]]\n",
    "\n",
    "            action_pred = self.actor(_state)\n",
    "            loss = F.mse_loss(_action, action_pred).mean()\n",
    "            \n",
    "            \n",
    "            self.optimizer.zero_grad()\n",
    "            loss.backward()\n",
    "            self.optimizer.step()\n",
    "            losses.append(loss.item())\n",
    "                \n",
    "        return np.mean(losses)\n",
    "                \n",
    "    # 학습된 BC Network 모델 저장\n",
    "    def save_model(self):\n",
    "        print(f\"... Save Model to {save_path}/ckpt...\")\n",
    "        torch.save({\n",
    "            \"actor\" : self.actor.state_dict(),\n",
    "            \"optimizer\" : self.optimizer.state_dict(),\n",
    "        }, save_path+\"/ckpt\")\n",
    "        \n",
    "    # 학습 로그 기록\n",
    "    def write_summary(self, loss, epoch):\n",
    "        self.writer.add_scalar(\"model/loss\", loss, epoch)  "
   ]
  },
  {
   "cell_type": "markdown",
   "id": "c72b493a-e230-46dc-bdf9-7568adda92fa",
   "metadata": {},
   "source": [
    "## Main 학습 프로세스"
   ]
  },
  {
   "cell_type": "code",
   "execution_count": 9,
   "id": "d06bedaa-8a74-449c-919f-3d55aa43a217",
   "metadata": {},
   "outputs": [
    {
     "name": "stdout",
     "output_type": "stream",
     "text": [
      "... Load Model from ./saved_models/Kart/BC/20221117230105/ckpt\n"
     ]
    }
   ],
   "source": [
    "# DDPGAgent Class를 Agent로 정의\n",
    "agent = BCAgent()\n",
    "\n",
    "if train_mode:\n",
    "    # Demonstration 정보 가져오기\n",
    "    behavior_spec, demo_buffer = demo_to_buffer(demo_path, 1)\n",
    "    print(demo_buffer._fields.keys())\n",
    "\n",
    "    demo_to_tensor = lambda key: torch.FloatTensor(demo_buffer[key]).to(device)\n",
    "    state = demo_to_tensor((ObservationKeyPrefix.OBSERVATION, 0))\n",
    "    action = demo_to_tensor(BufferKey.CONTINUOUS_ACTION)\n",
    "    reward = demo_to_tensor(BufferKey.ENVIRONMENT_REWARDS)\n",
    "    done = demo_to_tensor(BufferKey.DONE)\n",
    "\n",
    "    ret = reward.clone()\n",
    "    for t in reversed(range(len(ret) -1)):\n",
    "        ret[t] += (1. - done[t]) * (discount_factor * ret[t+1])\n",
    "\n",
    "    # 반환값(return)이 0보다 큰 (state, action) 만 학습에 사용\n",
    "    state, action = map(lambda x: x[ret > 0], [state, action])\n",
    "\n",
    "    losses = []\n",
    "    for epoch in range(1, train_epoch+1):\n",
    "        loss = agent.train_model(state, action)\n",
    "        losses.append(loss)\n",
    "\n",
    "        if epoch % print_interval == 0:\n",
    "            mean_loss = np.mean(losses)\n",
    "            agent.write_summary(mean_loss, epoch)\n",
    "            losses = []\n",
    "\n",
    "            print(f\"{epoch} Epoch / Loss: {mean_loss:.8f}\")\n",
    "\n",
    "        if epoch % save_interval == 0:\n",
    "            agent.save_model()\n"
   ]
  },
  {
   "cell_type": "markdown",
   "id": "d805a1dc-b265-44e0-93bb-86b7c52c4617",
   "metadata": {},
   "source": [
    "## 학습된 모델 Unity 환경에서 테스트"
   ]
  },
  {
   "cell_type": "code",
   "execution_count": 10,
   "id": "7c50fbbc-455f-4238-925d-6a21f94518da",
   "metadata": {},
   "outputs": [
    {
     "name": "stdout",
     "output_type": "stream",
     "text": [
      "PLAY START\n",
      "[UnityMemory] Configuration Parameters - Can be set up in boot.config\n",
      "    \"memorysetup-bucket-allocator-granularity=16\"\n",
      "    \"memorysetup-bucket-allocator-bucket-count=8\"\n",
      "    \"memorysetup-bucket-allocator-block-size=4194304\"\n",
      "    \"memorysetup-bucket-allocator-block-count=1\"\n",
      "    \"memorysetup-main-allocator-block-size=16777216\"\n",
      "    \"memorysetup-thread-allocator-block-size=16777216\"\n",
      "    \"memorysetup-gfx-main-allocator-block-size=16777216\"\n",
      "    \"memorysetup-gfx-thread-allocator-block-size=16777216\"\n",
      "    \"memorysetup-cache-allocator-block-size=4194304\"\n",
      "    \"memorysetup-typetree-allocator-block-size=2097152\"\n",
      "    \"memorysetup-profiler-bucket-allocator-granularity=16\"\n",
      "    \"memorysetup-profiler-bucket-allocator-bucket-count=8\"\n",
      "    \"memorysetup-profiler-bucket-allocator-block-size=4194304\"\n",
      "    \"memorysetup-profiler-bucket-allocator-block-count=1\"\n",
      "    \"memorysetup-profiler-allocator-block-size=16777216\"\n",
      "    \"memorysetup-profiler-editor-allocator-block-size=1048576\"\n",
      "    \"memorysetup-temp-allocator-size-main=4194304\"\n",
      "    \"memorysetup-job-temp-allocator-block-size=2097152\"\n",
      "    \"memorysetup-job-temp-allocator-block-size-background=1048576\"\n",
      "    \"memorysetup-job-temp-allocator-reduction-small-platforms=262144\"\n",
      "    \"memorysetup-temp-allocator-size-background-worker=32768\"\n",
      "    \"memorysetup-temp-allocator-size-job-worker=262144\"\n",
      "    \"memorysetup-temp-allocator-size-preload-manager=262144\"\n",
      "    \"memorysetup-temp-allocator-size-nav-mesh-worker=65536\"\n",
      "    \"memorysetup-temp-allocator-size-audio-worker=65536\"\n",
      "    \"memorysetup-temp-allocator-size-cloud-worker=32768\"\n",
      "    \"memorysetup-temp-allocator-size-gfx=262144\"\n"
     ]
    },
    {
     "name": "stderr",
     "output_type": "stream",
     "text": [
      "/Users/a08967/opt/anaconda3/envs/mlagent-r18-p37/lib/python3.7/site-packages/torch/nn/functional.py:1698: UserWarning: nn.functional.tanh is deprecated. Use torch.tanh instead.\n",
      "  warnings.warn(\"nn.functional.tanh is deprecated. Use torch.tanh instead.\")\n"
     ]
    },
    {
     "name": "stdout",
     "output_type": "stream",
     "text": [
      "1 Episode / Step: 74 / Score -4.18 \n",
      "2 Episode / Step: 139 / Score -2.91 \n",
      "3 Episode / Step: 205 / Score -4.93 \n",
      "4 Episode / Step: 271 / Score -4.94 \n",
      "5 Episode / Step: 337 / Score -4.94 \n",
      "6 Episode / Step: 403 / Score -4.94 \n",
      "7 Episode / Step: 469 / Score -4.94 \n",
      "8 Episode / Step: 535 / Score -4.94 \n",
      "9 Episode / Step: 601 / Score -4.94 \n",
      "10 Episode / Step: 667 / Score -4.94 \n",
      "11 Episode / Step: 733 / Score -4.94 \n",
      "12 Episode / Step: 799 / Score -4.94 \n",
      "13 Episode / Step: 865 / Score -4.94 \n",
      "14 Episode / Step: 931 / Score -4.94 \n",
      "15 Episode / Step: 997 / Score -4.94 \n",
      "16 Episode / Step: 1063 / Score -4.94 \n",
      "17 Episode / Step: 1129 / Score -4.94 \n",
      "18 Episode / Step: 1195 / Score -4.94 \n",
      "19 Episode / Step: 1261 / Score -4.94 \n",
      "20 Episode / Step: 1327 / Score -4.94 \n",
      "21 Episode / Step: 1393 / Score -4.94 \n",
      "22 Episode / Step: 1459 / Score -4.94 \n",
      "23 Episode / Step: 1525 / Score -4.94 \n",
      "24 Episode / Step: 1591 / Score -4.94 \n",
      "25 Episode / Step: 1657 / Score -4.94 \n",
      "26 Episode / Step: 1723 / Score -4.94 \n",
      "27 Episode / Step: 1789 / Score -4.94 \n",
      "28 Episode / Step: 1855 / Score -4.94 \n",
      "29 Episode / Step: 1921 / Score -4.94 \n"
     ]
    },
    {
     "ename": "KeyboardInterrupt",
     "evalue": "",
     "output_type": "error",
     "traceback": [
      "\u001b[0;31m---------------------------------------------------------------------------\u001b[0m",
      "\u001b[0;31mKeyboardInterrupt\u001b[0m                         Traceback (most recent call last)",
      "\u001b[0;32m/var/folders/ky/012smd8n62ngjwmcx2xhp7pc0000gn/T/ipykernel_30906/3709787382.py\u001b[0m in \u001b[0;36m<module>\u001b[0;34m\u001b[0m\n\u001b[1;32m     22\u001b[0m     \u001b[0maction_tuple\u001b[0m\u001b[0;34m.\u001b[0m\u001b[0madd_continuous\u001b[0m\u001b[0;34m(\u001b[0m\u001b[0maction\u001b[0m\u001b[0;34m)\u001b[0m\u001b[0;34m\u001b[0m\u001b[0;34m\u001b[0m\u001b[0m\n\u001b[1;32m     23\u001b[0m     \u001b[0menv\u001b[0m\u001b[0;34m.\u001b[0m\u001b[0mset_actions\u001b[0m\u001b[0;34m(\u001b[0m\u001b[0mbehavior_name\u001b[0m\u001b[0;34m,\u001b[0m \u001b[0maction_tuple\u001b[0m\u001b[0;34m)\u001b[0m\u001b[0;34m\u001b[0m\u001b[0;34m\u001b[0m\u001b[0m\n\u001b[0;32m---> 24\u001b[0;31m     \u001b[0menv\u001b[0m\u001b[0;34m.\u001b[0m\u001b[0mstep\u001b[0m\u001b[0;34m(\u001b[0m\u001b[0;34m)\u001b[0m\u001b[0;34m\u001b[0m\u001b[0;34m\u001b[0m\u001b[0m\n\u001b[0m\u001b[1;32m     25\u001b[0m \u001b[0;34m\u001b[0m\u001b[0m\n\u001b[1;32m     26\u001b[0m     \u001b[0mdec\u001b[0m\u001b[0;34m,\u001b[0m \u001b[0mterm\u001b[0m \u001b[0;34m=\u001b[0m \u001b[0menv\u001b[0m\u001b[0;34m.\u001b[0m\u001b[0mget_steps\u001b[0m\u001b[0;34m(\u001b[0m\u001b[0mbehavior_name\u001b[0m\u001b[0;34m)\u001b[0m\u001b[0;34m\u001b[0m\u001b[0;34m\u001b[0m\u001b[0m\n",
      "\u001b[0;32m~/ml-agents/ml-agents-envs/mlagents_envs/timers.py\u001b[0m in \u001b[0;36mwrapped\u001b[0;34m(*args, **kwargs)\u001b[0m\n\u001b[1;32m    303\u001b[0m     \u001b[0;32mdef\u001b[0m \u001b[0mwrapped\u001b[0m\u001b[0;34m(\u001b[0m\u001b[0;34m*\u001b[0m\u001b[0margs\u001b[0m\u001b[0;34m,\u001b[0m \u001b[0;34m**\u001b[0m\u001b[0mkwargs\u001b[0m\u001b[0;34m)\u001b[0m\u001b[0;34m:\u001b[0m\u001b[0;34m\u001b[0m\u001b[0;34m\u001b[0m\u001b[0m\n\u001b[1;32m    304\u001b[0m         \u001b[0;32mwith\u001b[0m \u001b[0mhierarchical_timer\u001b[0m\u001b[0;34m(\u001b[0m\u001b[0mfunc\u001b[0m\u001b[0;34m.\u001b[0m\u001b[0m__qualname__\u001b[0m\u001b[0;34m)\u001b[0m\u001b[0;34m:\u001b[0m\u001b[0;34m\u001b[0m\u001b[0;34m\u001b[0m\u001b[0m\n\u001b[0;32m--> 305\u001b[0;31m             \u001b[0;32mreturn\u001b[0m \u001b[0mfunc\u001b[0m\u001b[0;34m(\u001b[0m\u001b[0;34m*\u001b[0m\u001b[0margs\u001b[0m\u001b[0;34m,\u001b[0m \u001b[0;34m**\u001b[0m\u001b[0mkwargs\u001b[0m\u001b[0;34m)\u001b[0m\u001b[0;34m\u001b[0m\u001b[0;34m\u001b[0m\u001b[0m\n\u001b[0m\u001b[1;32m    306\u001b[0m \u001b[0;34m\u001b[0m\u001b[0m\n\u001b[1;32m    307\u001b[0m     \u001b[0;32mreturn\u001b[0m \u001b[0mwrapped\u001b[0m  \u001b[0;31m# type: ignore\u001b[0m\u001b[0;34m\u001b[0m\u001b[0;34m\u001b[0m\u001b[0m\n",
      "\u001b[0;32m~/ml-agents/ml-agents-envs/mlagents_envs/environment.py\u001b[0m in \u001b[0;36mstep\u001b[0;34m(self)\u001b[0m\n\u001b[1;32m    331\u001b[0m         \u001b[0mstep_input\u001b[0m \u001b[0;34m=\u001b[0m \u001b[0mself\u001b[0m\u001b[0;34m.\u001b[0m\u001b[0m_generate_step_input\u001b[0m\u001b[0;34m(\u001b[0m\u001b[0mself\u001b[0m\u001b[0;34m.\u001b[0m\u001b[0m_env_actions\u001b[0m\u001b[0;34m)\u001b[0m\u001b[0;34m\u001b[0m\u001b[0;34m\u001b[0m\u001b[0m\n\u001b[1;32m    332\u001b[0m         \u001b[0;32mwith\u001b[0m \u001b[0mhierarchical_timer\u001b[0m\u001b[0;34m(\u001b[0m\u001b[0;34m\"communicator.exchange\"\u001b[0m\u001b[0;34m)\u001b[0m\u001b[0;34m:\u001b[0m\u001b[0;34m\u001b[0m\u001b[0;34m\u001b[0m\u001b[0m\n\u001b[0;32m--> 333\u001b[0;31m             \u001b[0moutputs\u001b[0m \u001b[0;34m=\u001b[0m \u001b[0mself\u001b[0m\u001b[0;34m.\u001b[0m\u001b[0m_communicator\u001b[0m\u001b[0;34m.\u001b[0m\u001b[0mexchange\u001b[0m\u001b[0;34m(\u001b[0m\u001b[0mstep_input\u001b[0m\u001b[0;34m,\u001b[0m \u001b[0mself\u001b[0m\u001b[0;34m.\u001b[0m\u001b[0m_poll_process\u001b[0m\u001b[0;34m)\u001b[0m\u001b[0;34m\u001b[0m\u001b[0;34m\u001b[0m\u001b[0m\n\u001b[0m\u001b[1;32m    334\u001b[0m         \u001b[0;32mif\u001b[0m \u001b[0moutputs\u001b[0m \u001b[0;32mis\u001b[0m \u001b[0;32mNone\u001b[0m\u001b[0;34m:\u001b[0m\u001b[0;34m\u001b[0m\u001b[0;34m\u001b[0m\u001b[0m\n\u001b[1;32m    335\u001b[0m             \u001b[0;32mraise\u001b[0m \u001b[0mUnityCommunicatorStoppedException\u001b[0m\u001b[0;34m(\u001b[0m\u001b[0;34m\"Communicator has exited.\"\u001b[0m\u001b[0;34m)\u001b[0m\u001b[0;34m\u001b[0m\u001b[0;34m\u001b[0m\u001b[0m\n",
      "\u001b[0;32m~/ml-agents/ml-agents-envs/mlagents_envs/rpc_communicator.py\u001b[0m in \u001b[0;36mexchange\u001b[0;34m(self, inputs, poll_callback)\u001b[0m\n\u001b[1;32m    135\u001b[0m         \u001b[0mmessage\u001b[0m\u001b[0;34m.\u001b[0m\u001b[0munity_input\u001b[0m\u001b[0;34m.\u001b[0m\u001b[0mCopyFrom\u001b[0m\u001b[0;34m(\u001b[0m\u001b[0minputs\u001b[0m\u001b[0;34m)\u001b[0m\u001b[0;34m\u001b[0m\u001b[0;34m\u001b[0m\u001b[0m\n\u001b[1;32m    136\u001b[0m         \u001b[0mself\u001b[0m\u001b[0;34m.\u001b[0m\u001b[0munity_to_external\u001b[0m\u001b[0;34m.\u001b[0m\u001b[0mparent_conn\u001b[0m\u001b[0;34m.\u001b[0m\u001b[0msend\u001b[0m\u001b[0;34m(\u001b[0m\u001b[0mmessage\u001b[0m\u001b[0;34m)\u001b[0m\u001b[0;34m\u001b[0m\u001b[0;34m\u001b[0m\u001b[0m\n\u001b[0;32m--> 137\u001b[0;31m         \u001b[0mself\u001b[0m\u001b[0;34m.\u001b[0m\u001b[0mpoll_for_timeout\u001b[0m\u001b[0;34m(\u001b[0m\u001b[0mpoll_callback\u001b[0m\u001b[0;34m)\u001b[0m\u001b[0;34m\u001b[0m\u001b[0;34m\u001b[0m\u001b[0m\n\u001b[0m\u001b[1;32m    138\u001b[0m         \u001b[0moutput\u001b[0m \u001b[0;34m=\u001b[0m \u001b[0mself\u001b[0m\u001b[0;34m.\u001b[0m\u001b[0munity_to_external\u001b[0m\u001b[0;34m.\u001b[0m\u001b[0mparent_conn\u001b[0m\u001b[0;34m.\u001b[0m\u001b[0mrecv\u001b[0m\u001b[0;34m(\u001b[0m\u001b[0;34m)\u001b[0m\u001b[0;34m\u001b[0m\u001b[0;34m\u001b[0m\u001b[0m\n\u001b[1;32m    139\u001b[0m         \u001b[0;32mif\u001b[0m \u001b[0moutput\u001b[0m\u001b[0;34m.\u001b[0m\u001b[0mheader\u001b[0m\u001b[0;34m.\u001b[0m\u001b[0mstatus\u001b[0m \u001b[0;34m!=\u001b[0m \u001b[0;36m200\u001b[0m\u001b[0;34m:\u001b[0m\u001b[0;34m\u001b[0m\u001b[0;34m\u001b[0m\u001b[0m\n",
      "\u001b[0;32m~/ml-agents/ml-agents-envs/mlagents_envs/rpc_communicator.py\u001b[0m in \u001b[0;36mpoll_for_timeout\u001b[0;34m(self, poll_callback)\u001b[0m\n\u001b[1;32m    101\u001b[0m         \u001b[0mcallback_timeout_wait\u001b[0m \u001b[0;34m=\u001b[0m \u001b[0mself\u001b[0m\u001b[0;34m.\u001b[0m\u001b[0mtimeout_wait\u001b[0m \u001b[0;34m//\u001b[0m \u001b[0;36m10\u001b[0m\u001b[0;34m\u001b[0m\u001b[0;34m\u001b[0m\u001b[0m\n\u001b[1;32m    102\u001b[0m         \u001b[0;32mwhile\u001b[0m \u001b[0mtime\u001b[0m\u001b[0;34m.\u001b[0m\u001b[0mmonotonic\u001b[0m\u001b[0;34m(\u001b[0m\u001b[0;34m)\u001b[0m \u001b[0;34m<\u001b[0m \u001b[0mdeadline\u001b[0m\u001b[0;34m:\u001b[0m\u001b[0;34m\u001b[0m\u001b[0;34m\u001b[0m\u001b[0m\n\u001b[0;32m--> 103\u001b[0;31m             \u001b[0;32mif\u001b[0m \u001b[0mself\u001b[0m\u001b[0;34m.\u001b[0m\u001b[0munity_to_external\u001b[0m\u001b[0;34m.\u001b[0m\u001b[0mparent_conn\u001b[0m\u001b[0;34m.\u001b[0m\u001b[0mpoll\u001b[0m\u001b[0;34m(\u001b[0m\u001b[0mcallback_timeout_wait\u001b[0m\u001b[0;34m)\u001b[0m\u001b[0;34m:\u001b[0m\u001b[0;34m\u001b[0m\u001b[0;34m\u001b[0m\u001b[0m\n\u001b[0m\u001b[1;32m    104\u001b[0m                 \u001b[0;31m# Got an acknowledgment from the connection\u001b[0m\u001b[0;34m\u001b[0m\u001b[0;34m\u001b[0m\u001b[0;34m\u001b[0m\u001b[0m\n\u001b[1;32m    105\u001b[0m                 \u001b[0;32mreturn\u001b[0m\u001b[0;34m\u001b[0m\u001b[0;34m\u001b[0m\u001b[0m\n",
      "\u001b[0;32m~/opt/anaconda3/envs/mlagent-r18-p37/lib/python3.7/multiprocessing/connection.py\u001b[0m in \u001b[0;36mpoll\u001b[0;34m(self, timeout)\u001b[0m\n\u001b[1;32m    255\u001b[0m         \u001b[0mself\u001b[0m\u001b[0;34m.\u001b[0m\u001b[0m_check_closed\u001b[0m\u001b[0;34m(\u001b[0m\u001b[0;34m)\u001b[0m\u001b[0;34m\u001b[0m\u001b[0;34m\u001b[0m\u001b[0m\n\u001b[1;32m    256\u001b[0m         \u001b[0mself\u001b[0m\u001b[0;34m.\u001b[0m\u001b[0m_check_readable\u001b[0m\u001b[0;34m(\u001b[0m\u001b[0;34m)\u001b[0m\u001b[0;34m\u001b[0m\u001b[0;34m\u001b[0m\u001b[0m\n\u001b[0;32m--> 257\u001b[0;31m         \u001b[0;32mreturn\u001b[0m \u001b[0mself\u001b[0m\u001b[0;34m.\u001b[0m\u001b[0m_poll\u001b[0m\u001b[0;34m(\u001b[0m\u001b[0mtimeout\u001b[0m\u001b[0;34m)\u001b[0m\u001b[0;34m\u001b[0m\u001b[0;34m\u001b[0m\u001b[0m\n\u001b[0m\u001b[1;32m    258\u001b[0m \u001b[0;34m\u001b[0m\u001b[0m\n\u001b[1;32m    259\u001b[0m     \u001b[0;32mdef\u001b[0m \u001b[0m__enter__\u001b[0m\u001b[0;34m(\u001b[0m\u001b[0mself\u001b[0m\u001b[0;34m)\u001b[0m\u001b[0;34m:\u001b[0m\u001b[0;34m\u001b[0m\u001b[0;34m\u001b[0m\u001b[0m\n",
      "\u001b[0;32m~/opt/anaconda3/envs/mlagent-r18-p37/lib/python3.7/multiprocessing/connection.py\u001b[0m in \u001b[0;36m_poll\u001b[0;34m(self, timeout)\u001b[0m\n\u001b[1;32m    412\u001b[0m \u001b[0;34m\u001b[0m\u001b[0m\n\u001b[1;32m    413\u001b[0m     \u001b[0;32mdef\u001b[0m \u001b[0m_poll\u001b[0m\u001b[0;34m(\u001b[0m\u001b[0mself\u001b[0m\u001b[0;34m,\u001b[0m \u001b[0mtimeout\u001b[0m\u001b[0;34m)\u001b[0m\u001b[0;34m:\u001b[0m\u001b[0;34m\u001b[0m\u001b[0;34m\u001b[0m\u001b[0m\n\u001b[0;32m--> 414\u001b[0;31m         \u001b[0mr\u001b[0m \u001b[0;34m=\u001b[0m \u001b[0mwait\u001b[0m\u001b[0;34m(\u001b[0m\u001b[0;34m[\u001b[0m\u001b[0mself\u001b[0m\u001b[0;34m]\u001b[0m\u001b[0;34m,\u001b[0m \u001b[0mtimeout\u001b[0m\u001b[0;34m)\u001b[0m\u001b[0;34m\u001b[0m\u001b[0;34m\u001b[0m\u001b[0m\n\u001b[0m\u001b[1;32m    415\u001b[0m         \u001b[0;32mreturn\u001b[0m \u001b[0mbool\u001b[0m\u001b[0;34m(\u001b[0m\u001b[0mr\u001b[0m\u001b[0;34m)\u001b[0m\u001b[0;34m\u001b[0m\u001b[0;34m\u001b[0m\u001b[0m\n\u001b[1;32m    416\u001b[0m \u001b[0;34m\u001b[0m\u001b[0m\n",
      "\u001b[0;32m~/opt/anaconda3/envs/mlagent-r18-p37/lib/python3.7/multiprocessing/connection.py\u001b[0m in \u001b[0;36mwait\u001b[0;34m(object_list, timeout)\u001b[0m\n\u001b[1;32m    919\u001b[0m \u001b[0;34m\u001b[0m\u001b[0m\n\u001b[1;32m    920\u001b[0m             \u001b[0;32mwhile\u001b[0m \u001b[0;32mTrue\u001b[0m\u001b[0;34m:\u001b[0m\u001b[0;34m\u001b[0m\u001b[0;34m\u001b[0m\u001b[0m\n\u001b[0;32m--> 921\u001b[0;31m                 \u001b[0mready\u001b[0m \u001b[0;34m=\u001b[0m \u001b[0mselector\u001b[0m\u001b[0;34m.\u001b[0m\u001b[0mselect\u001b[0m\u001b[0;34m(\u001b[0m\u001b[0mtimeout\u001b[0m\u001b[0;34m)\u001b[0m\u001b[0;34m\u001b[0m\u001b[0;34m\u001b[0m\u001b[0m\n\u001b[0m\u001b[1;32m    922\u001b[0m                 \u001b[0;32mif\u001b[0m \u001b[0mready\u001b[0m\u001b[0;34m:\u001b[0m\u001b[0;34m\u001b[0m\u001b[0;34m\u001b[0m\u001b[0m\n\u001b[1;32m    923\u001b[0m                     \u001b[0;32mreturn\u001b[0m \u001b[0;34m[\u001b[0m\u001b[0mkey\u001b[0m\u001b[0;34m.\u001b[0m\u001b[0mfileobj\u001b[0m \u001b[0;32mfor\u001b[0m \u001b[0;34m(\u001b[0m\u001b[0mkey\u001b[0m\u001b[0;34m,\u001b[0m \u001b[0mevents\u001b[0m\u001b[0;34m)\u001b[0m \u001b[0;32min\u001b[0m \u001b[0mready\u001b[0m\u001b[0;34m]\u001b[0m\u001b[0;34m\u001b[0m\u001b[0;34m\u001b[0m\u001b[0m\n",
      "\u001b[0;32m~/opt/anaconda3/envs/mlagent-r18-p37/lib/python3.7/selectors.py\u001b[0m in \u001b[0;36mselect\u001b[0;34m(self, timeout)\u001b[0m\n\u001b[1;32m    413\u001b[0m         \u001b[0mready\u001b[0m \u001b[0;34m=\u001b[0m \u001b[0;34m[\u001b[0m\u001b[0;34m]\u001b[0m\u001b[0;34m\u001b[0m\u001b[0;34m\u001b[0m\u001b[0m\n\u001b[1;32m    414\u001b[0m         \u001b[0;32mtry\u001b[0m\u001b[0;34m:\u001b[0m\u001b[0;34m\u001b[0m\u001b[0;34m\u001b[0m\u001b[0m\n\u001b[0;32m--> 415\u001b[0;31m             \u001b[0mfd_event_list\u001b[0m \u001b[0;34m=\u001b[0m \u001b[0mself\u001b[0m\u001b[0;34m.\u001b[0m\u001b[0m_selector\u001b[0m\u001b[0;34m.\u001b[0m\u001b[0mpoll\u001b[0m\u001b[0;34m(\u001b[0m\u001b[0mtimeout\u001b[0m\u001b[0;34m)\u001b[0m\u001b[0;34m\u001b[0m\u001b[0;34m\u001b[0m\u001b[0m\n\u001b[0m\u001b[1;32m    416\u001b[0m         \u001b[0;32mexcept\u001b[0m \u001b[0mInterruptedError\u001b[0m\u001b[0;34m:\u001b[0m\u001b[0;34m\u001b[0m\u001b[0;34m\u001b[0m\u001b[0m\n\u001b[1;32m    417\u001b[0m             \u001b[0;32mreturn\u001b[0m \u001b[0mready\u001b[0m\u001b[0;34m\u001b[0m\u001b[0;34m\u001b[0m\u001b[0m\n",
      "\u001b[0;31mKeyboardInterrupt\u001b[0m: "
     ]
    }
   ],
   "source": [
    "# 빌드 환경에서 Play 시작\n",
    "print(\"PLAY START\")\n",
    "\n",
    "# Unity 환경 경로 설정\n",
    "engine_configuration_channel = EngineConfigurationChannel()\n",
    "env = UnityEnvironment(file_name=env_name, side_channels=[engine_configuration_channel])\n",
    "env.reset()\n",
    "\n",
    "# Unity 브레인 설정\n",
    "behavior_name = list(env.behavior_specs.keys())[0]\n",
    "spec = env.behavior_specs[behavior_name]\n",
    "engine_configuration_channel.set_configuration_parameters(time_scale=1.0)\n",
    "dec, term = env.get_steps(behavior_name)\n",
    "\n",
    "# 테스트 시작\n",
    "episode, score = 0, 0\n",
    "\n",
    "for step in range(test_step):\n",
    "    state = dec.obs[0]\n",
    "    action = agent.get_action(state, False)\n",
    "    action_tuple = ActionTuple()\n",
    "    action_tuple.add_continuous(action)\n",
    "    env.set_actions(behavior_name, action_tuple)\n",
    "    env.step()\n",
    "    \n",
    "    dec, term = env.get_steps(behavior_name)\n",
    "    done = len(term.agent_id) > 0\n",
    "    reward = term.reward if done else dec.reward\n",
    "    next_state = term.obs[0] if done else dec.obs[0]\n",
    "    score += reward[0]\n",
    "    \n",
    "    if done:\n",
    "        episode += 1\n",
    "        \n",
    "        print(f\"{episode} Episode / Step: {step} / Score {score:.2f} \")\n",
    "        score = 0\n",
    "        \n",
    "env.close()"
   ]
  },
  {
   "cell_type": "code",
   "execution_count": null,
   "id": "a8fd3ab3-3af6-4e56-bac2-d486ea87b07b",
   "metadata": {},
   "outputs": [],
   "source": []
  }
 ],
 "metadata": {
  "kernelspec": {
   "display_name": "mlagent-r18-p37",
   "language": "python",
   "name": "mlagent-r18-p37"
  },
  "language_info": {
   "codemirror_mode": {
    "name": "ipython",
    "version": 3
   },
   "file_extension": ".py",
   "mimetype": "text/x-python",
   "name": "python",
   "nbconvert_exporter": "python",
   "pygments_lexer": "ipython3",
   "version": "3.7.13"
  }
 },
 "nbformat": 4,
 "nbformat_minor": 5
}

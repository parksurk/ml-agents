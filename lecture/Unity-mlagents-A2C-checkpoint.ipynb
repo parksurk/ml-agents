{
 "cells": [
  {
   "cell_type": "markdown",
   "id": "74c92828",
   "metadata": {},
   "source": [
    "# Unity ML-Agents A2C 구현 코드"
   ]
  },
  {
   "cell_type": "markdown",
   "id": "63043678",
   "metadata": {},
   "source": [
    "## 라이브러리 불러오기"
   ]
  },
  {
   "cell_type": "code",
   "execution_count": 1,
   "id": "c817db9e",
   "metadata": {},
   "outputs": [],
   "source": [
    "import numpy as np\n",
    "import datetime\n",
    "import platform\n",
    "import torch\n",
    "import torch.nn.functional as F\n",
    "from torch.utils.tensorboard import SummaryWriter\n",
    "from collections import deque\n",
    "from mlagents_envs.environment import UnityEnvironment, ActionTuple\n",
    "from mlagents_envs.side_channel.engine_configuration_channel import EngineConfigurationChannel"
   ]
  },
  {
   "cell_type": "markdown",
   "id": "7dce5330",
   "metadata": {},
   "source": [
    "## A2C 학습 옵션 값 설정"
   ]
  },
  {
   "cell_type": "code",
   "execution_count": 2,
   "id": "8aa0133c",
   "metadata": {},
   "outputs": [],
   "source": [
    "state_size = 6*2\n",
    "action_size = 4\n",
    "\n",
    "load_model = False\n",
    "train_mode = True\n",
    "\n",
    "discount_factor = 0.9\n",
    "learning_rate = 0.00025\n",
    "\n",
    "run_step = 50000 if train_mode else 0\n",
    "test_step = 5000\n",
    "\n",
    "print_interval = 10\n",
    "save_interval = 100\n",
    "\n",
    "VISUAL_OBS = 0\n",
    "GOAL_OBS = 1\n",
    "VECTOR_OBS = 2\n",
    "OBS = VECTOR_OBS"
   ]
  },
  {
   "cell_type": "markdown",
   "id": "cca60501",
   "metadata": {},
   "source": [
    "## Unity 환경 옵션 값 설정"
   ]
  },
  {
   "cell_type": "code",
   "execution_count": 3,
   "id": "f905981c",
   "metadata": {},
   "outputs": [],
   "source": [
    "game = \"GridWorld\"\n",
    "os_name = platform.system()\n",
    "if os_name == \"Windows\":\n",
    "    env_name = f\"../envs/{game}_{os_name}/{game}\"\n",
    "elif os_name == \"Darwin\":\n",
    "    #env_name = f\"../envs/{game}_{os_name}\"\n",
    "    env_name = f\"../../TestMLAgentProject5th/{game}/{game}\""
   ]
  },
  {
   "cell_type": "markdown",
   "id": "b09eedd5",
   "metadata": {},
   "source": [
    "## 딥러닝 모델 저장 및 불러오기 옵션"
   ]
  },
  {
   "cell_type": "code",
   "execution_count": 4,
   "id": "9c6e8ace",
   "metadata": {},
   "outputs": [],
   "source": [
    "date_time = datetime.datetime.now().strftime(\"%Y%m%d%H%M%S\")\n",
    "save_path = f\"./saved_models/{game}/A2C/{date_time}\"\n",
    "load_path = f\"./saved_models/{game}/A2C/xxxxxxxxxxxxx\""
   ]
  },
  {
   "cell_type": "markdown",
   "id": "0d893103",
   "metadata": {},
   "source": [
    "## 연산 장치(GPU|CPU)"
   ]
  },
  {
   "cell_type": "code",
   "execution_count": 5,
   "id": "91ee48b7",
   "metadata": {},
   "outputs": [],
   "source": [
    "device = torch.device(\"cuda\" if torch.cuda.is_available() else \"cpu\")"
   ]
  },
  {
   "cell_type": "markdown",
   "id": "f373b91b-c415-4ac3-8357-3c18bbab2245",
   "metadata": {},
   "source": [
    "## 딥러닝 모델 Class 구현"
   ]
  },
  {
   "cell_type": "code",
   "execution_count": 6,
   "id": "a51692f7-6e66-4c69-a9b1-47dce0a73feb",
   "metadata": {},
   "outputs": [],
   "source": [
    "class A2C(torch.nn.Module):\n",
    "    def __init__(self, **kwargs):\n",
    "        super(A2C, self).__init__(**kwargs)\n",
    "        \n",
    "        self.d1 = torch.nn.Linear(state_size, 128)\n",
    "        self.d2 = torch.nn.Linear(128, 128)\n",
    "        self.pi = torch.nn.Linear(128, action_size)\n",
    "        self.v = torch.nn.Linear(128, 1)\n",
    "        \n",
    "    def forward(self, x):\n",
    "        x = F.relu(self.d1(x))\n",
    "        x = F.relu(self.d2(x))\n",
    "        \n",
    "        return F.softmax(self.pi(x), dim=1) , self.v(x)\n"
   ]
  },
  {
   "cell_type": "markdown",
   "id": "4286dfbf-c601-40e3-9ea7-698f12c149d8",
   "metadata": {},
   "source": [
    "## 강화학습 에이전트 Class 구현"
   ]
  },
  {
   "cell_type": "code",
   "execution_count": 7,
   "id": "a0ff1d56-edf0-4d97-adc7-175db73bf88e",
   "metadata": {},
   "outputs": [],
   "source": [
    "class A2CAgent:\n",
    "    def __init__(self):\n",
    "        self.a2c = A2C().to(device)\n",
    "        self.optimizer = torch.optim.Adam(self.a2c.parameters(), lr=learning_rate)\n",
    "        self.writer = SummaryWriter(save_path)\n",
    "        \n",
    "        if load_model == True:\n",
    "            print(f\"... Load Model from {load_path}/ckpt\")\n",
    "            checkpoint = torch.load(load_path+\"/ckpt\", map_location=device)\n",
    "            self.a2c.load_state_dict(checkpoint[\"network\"])\n",
    "            self.optimizer.load_state_dict(checkpoint[\"optimizer\"])\n",
    "            \n",
    "    # 정책(Polocy)에 따라 행동을 결정\n",
    "    def get_action(self, state, training=True):\n",
    "        #네트워크 모드 설정\n",
    "        self.a2c.train(training)\n",
    "        \n",
    "        pi, _ = self.a2c(torch.FloatTensor(state).to(device))\n",
    "        action = torch.multinomial(pi, num_samples=1).detach().cpu().numpy()\n",
    "            \n",
    "        return action\n",
    "    \n",
    "    # A2C 학습을 수행\n",
    "    def train_model(self, state, action, reward, next_state, done):\n",
    "        state, action, reward, next_state, done = map(lambda x: torch.FloatTensor(x).to(device), [state, action, reward, next_state, done])\n",
    "        \n",
    "        pi, value = self.a2c(state)\n",
    "        \n",
    "        # Value Network(가치 신경망)\n",
    "        with torch.no_grad():\n",
    "            _, next_value = self.a2c(next_state)\n",
    "            target_value = reward + (1 - done) * discount_factor * next_value\n",
    "            \n",
    "        critic_loss = F.mse_loss(target_value, value)\n",
    "        \n",
    "        # Policy Network(정책 신경망)\n",
    "        eye = torch.eye(action_size).to(device)\n",
    "        one_hot_action = eye[action.view(-1).long()]\n",
    "        advantage = (target_value - value).detach()\n",
    "        actor_loss = -(torch.log((one_hot_action * pi).sum(1))*advantage).mean()\n",
    "        total_loss = critic_loss + actor_loss\n",
    "        \n",
    "        self.optimizer.zero_grad()\n",
    "        total_loss.backward()\n",
    "        self.optimizer.step()\n",
    "        \n",
    "        return actor_loss.item(), critic_loss.item()\n",
    "        \n",
    "    # 학습된 DQN Network 모델 저장\n",
    "    def save_model(self):\n",
    "        print(f\"... Save Model to {save_path}/ckpt...\")\n",
    "        torch.save({\n",
    "            \"network\" : self.a2c.state_dict(),\n",
    "            \"optimizer\" : self.optimizer.state_dict(),\n",
    "        }, save_path+\"/ckpt\")\n",
    "        \n",
    "    # 학습 로그 기록\n",
    "    def write_summary(self, score, loss, epsilon, step):\n",
    "        self.writer.add_scalar(\"run/score\", score, step)\n",
    "        self.writer.add_scalar(\"model/actor_loss\", actor_loss, step)\n",
    "        self.writer.add_scalar(\"model/critic_loss\", critic_loss, step)\n",
    "        "
   ]
  },
  {
   "cell_type": "markdown",
   "id": "c72b493a-e230-46dc-bdf9-7568adda92fa",
   "metadata": {},
   "source": [
    "## Main 프로세스"
   ]
  },
  {
   "cell_type": "code",
   "execution_count": 8,
   "id": "d06bedaa-8a74-449c-919f-3d55aa43a217",
   "metadata": {},
   "outputs": [
    {
     "ename": "NameError",
     "evalue": "name 'target_update_step' is not defined",
     "output_type": "error",
     "traceback": [
      "\u001b[0;31m---------------------------------------------------------------------------\u001b[0m",
      "\u001b[0;31mNameError\u001b[0m                                 Traceback (most recent call last)",
      "\u001b[0;32m/var/folders/ky/012smd8n62ngjwmcx2xhp7pc0000gn/T/ipykernel_4610/1781875008.py\u001b[0m in \u001b[0;36m<module>\u001b[0;34m\u001b[0m\n\u001b[1;32m     42\u001b[0m         \u001b[0mcritic_losses\u001b[0m\u001b[0;34m.\u001b[0m\u001b[0mappend\u001b[0m\u001b[0;34m(\u001b[0m\u001b[0mcritic_loss\u001b[0m\u001b[0;34m)\u001b[0m\u001b[0;34m\u001b[0m\u001b[0;34m\u001b[0m\u001b[0m\n\u001b[1;32m     43\u001b[0m \u001b[0;34m\u001b[0m\u001b[0m\n\u001b[0;32m---> 44\u001b[0;31m         \u001b[0;32mif\u001b[0m \u001b[0mstep\u001b[0m \u001b[0;34m%\u001b[0m \u001b[0mtarget_update_step\u001b[0m \u001b[0;34m==\u001b[0m \u001b[0;36m0\u001b[0m\u001b[0;34m:\u001b[0m\u001b[0;34m\u001b[0m\u001b[0;34m\u001b[0m\u001b[0m\n\u001b[0m\u001b[1;32m     45\u001b[0m             \u001b[0magent\u001b[0m\u001b[0;34m.\u001b[0m\u001b[0mupdate_target\u001b[0m\u001b[0;34m(\u001b[0m\u001b[0;34m)\u001b[0m\u001b[0;34m\u001b[0m\u001b[0;34m\u001b[0m\u001b[0m\n\u001b[1;32m     46\u001b[0m \u001b[0;34m\u001b[0m\u001b[0m\n",
      "\u001b[0;31mNameError\u001b[0m: name 'target_update_step' is not defined"
     ]
    }
   ],
   "source": [
    "# Unity 환경 경로 설정\n",
    "engine_configuration_channel = EngineConfigurationChannel()\n",
    "env = UnityEnvironment(file_name=env_name, side_channels=[engine_configuration_channel])\n",
    "env.reset()\n",
    "\n",
    "# Unity 브레인 설정\n",
    "behavior_name = list(env.behavior_specs.keys())[0]\n",
    "spec = env.behavior_specs[behavior_name]\n",
    "engine_configuration_channel.set_configuration_parameters(time_scale=12.0)\n",
    "dec, term = env.get_steps(behavior_name)\n",
    "\n",
    "# A2CAgent Class를 Agent로 정의\n",
    "agent = A2CAgent()\n",
    "\n",
    "actor_losses, critic_losses , scores, episode, score = [], [], [], 0, 0\n",
    "for step in range(run_step + test_step):\n",
    "    if step == run_step:\n",
    "        if train_mode:\n",
    "            agent.save_model()\n",
    "        print(\"TEST START\")\n",
    "        train_mode = False\n",
    "        engine_configuration_channel.set_configuration_parameters(time_scale=1.0)\n",
    "        \n",
    "    preprocess = lambda obs, goal: np.concatenate((obs*goal[0][0], obs*goal[0][1]), axis=-1)\n",
    "    state = preprocess(dec.obs[OBS], dec.obs[GOAL_OBS])\n",
    "    action = agent.get_action(state, train_mode)\n",
    "    real_action = action + 1\n",
    "    action_tuple = ActionTuple()\n",
    "    action_tuple.add_discrete(real_action)\n",
    "    env.set_actions(behavior_name, action_tuple)\n",
    "    env.step()\n",
    "    \n",
    "    dec, term = env.get_steps(behavior_name)\n",
    "    done = len(term.agent_id) > 0\n",
    "    reward = term.reward if done else dec.reward\n",
    "    next_state = preprocess(term.obs[OBS], term.obs[GOAL_OBS]) if done else preprocess(dec.obs[OBS], dec.obs[GOAL_OBS])\n",
    "    score += reward[0]\n",
    "        \n",
    "    if train_mode:\n",
    "        actor_loss, critic_loss = agent.train_model(state, action[0], [reward], next_state, [done])\n",
    "        actor_losses.append(actor_loss)\n",
    "        critic_losses.append(critic_loss)\n",
    "    \n",
    "    if done:\n",
    "        episode +=1\n",
    "        scores.append(score)\n",
    "        score = 0\n",
    "        \n",
    "        if episode % print_interval == 0:\n",
    "            mean_score = np.mean(scores)\n",
    "            mean_actor_loss = np.mean(actor_losses)\n",
    "            mean_critic_loss = np.mean(critic_losses)\n",
    "            agent.write_summary(mean_score, mean_actor_loss, mean_critic_loss, step)\n",
    "            actor_losses, critic_losses, scores = [], [], []\n",
    "            \n",
    "            print(f\"{episode} Episode / Step: {step} / Score: {mean_score:.2f} / Actor Loss: {mean_actor_loss:.4f} / Critic Loss: {mean_critic_loss:.4f}\")\n",
    "        \n",
    "        if train_mode and episode % save_interval == 0:\n",
    "            agent.save_model()\n",
    "    \n",
    "env.close()"
   ]
  },
  {
   "cell_type": "code",
   "execution_count": null,
   "id": "6f4ffe85-9e2e-465c-b461-02eb99bb69c8",
   "metadata": {},
   "outputs": [],
   "source": []
  }
 ],
 "metadata": {
  "kernelspec": {
   "display_name": "mlagent-r18-p37",
   "language": "python",
   "name": "mlagent-r18-p37"
  },
  "language_info": {
   "codemirror_mode": {
    "name": "ipython",
    "version": 3
   },
   "file_extension": ".py",
   "mimetype": "text/x-python",
   "name": "python",
   "nbconvert_exporter": "python",
   "pygments_lexer": "ipython3",
   "version": "3.7.13"
  }
 },
 "nbformat": 4,
 "nbformat_minor": 5
}
